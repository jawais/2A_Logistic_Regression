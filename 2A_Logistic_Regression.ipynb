{
 "cells": [
  {
   "cell_type": "markdown",
   "metadata": {},
   "source": [
    "# Introduction to Logistic Regression in PyTorch"
   ]
  },
  {
   "cell_type": "markdown",
   "metadata": {},
   "source": [
    "In this notebook, we're going to build a very simple neural network in PyTorch to do handwritten digit classification.\n",
    "First, we'll start with some exploration of the MNIST dataset, explaining how we load and format the data.\n",
    "We'll then jump into motivating and then implementing the logistic regression model, including the forward and backwards pass, loss functions, and optimizers.\n",
    "After training the model, we'll evaluate how we did and visualize what we've learned.\n",
    "Finally, we'll refactor our code in an object-oriented manner, using higher level APIs.\n",
    "\n",
    "Before we get started, some imports for the packages we'll be using:"
   ]
  },
  {
   "cell_type": "code",
   "execution_count": 1,
   "metadata": {},
   "outputs": [],
   "source": [
    "%matplotlib inline\n",
    "\n",
    "import numpy as np\n",
    "import matplotlib.pyplot as plt\n",
    "import torch\n",
    "from tqdm.notebook import tqdm"
   ]
  },
  {
   "cell_type": "markdown",
   "metadata": {},
   "source": [
    "### MNIST Dataset"
   ]
  },
  {
   "cell_type": "markdown",
   "metadata": {},
   "source": [
    "The MNIST dataset is very popular machine learning dataset, consisting of 70000 grayscale images of handwritten digits, of dimensions 28x28. \n",
    "We'll be using it as our example dataset for this section of the tutorial, with the goal being to predict which digit is in each image.\n",
    "\n",
    "![mnist](Figures/mnist.png)\n",
    "\n",
    "The first (and often most important) step in machine learning is preparing the data.\n",
    "This can include downloading, organizing, formatting, shuffling, pre-processing, augmenting, and batching examples so that they can be fed to a model.\n",
    "The `torchvision` package makes this easy by implementing many of these, allowing us to put these datasets into a usable form in only a few lines of code.\n",
    "First, let's download the train and test sets of MNIST:"
   ]
  },
  {
   "cell_type": "code",
   "execution_count": 2,
   "metadata": {},
   "outputs": [],
   "source": [
    "from torchvision import datasets, transforms\n",
    "\n",
    "mnist_train = datasets.MNIST(root=\"./datasets\", train=True, transform=transforms.ToTensor(), download=True)\n",
    "mnist_test = datasets.MNIST(root=\"./datasets\", train=False, transform=transforms.ToTensor(), download=True)"
   ]
  },
  {
   "cell_type": "code",
   "execution_count": 3,
   "metadata": {},
   "outputs": [
    {
     "name": "stdout",
     "output_type": "stream",
     "text": [
      "Number of MNIST training examples: 60000\n",
      "Number of MNIST test examples: 10000\n"
     ]
    }
   ],
   "source": [
    "print(\"Number of MNIST training examples: {}\".format(len(mnist_train)))\n",
    "print(\"Number of MNIST test examples: {}\".format(len(mnist_test)))"
   ]
  },
  {
   "cell_type": "markdown",
   "metadata": {},
   "source": [
    "As we'd expect, 60000 of the MNIST examples are in the train set, and the rest are in the test set.\n",
    "We added the transform `ToTensor()` when formatting the dataset, to convert the input data from a Pillow `Image` type into a PyTorch `Tensor`. Tensors will eventually be the input type that we feed into our model. \n",
    "\n",
    "Let's look at an example image from the train set and its label.\n",
    "Notice that the `image` tensor defaults to something 3-dimensional.\n",
    "The \"1\" in the first dimension indicates that the image only has one channel (i.e. grayscale).\n",
    "We need to get rid of this to visualize the image with `imshow`."
   ]
  },
  {
   "cell_type": "code",
   "execution_count": 4,
   "metadata": {
    "scrolled": false
   },
   "outputs": [
    {
     "name": "stdout",
     "output_type": "stream",
     "text": [
      "Default image shape: torch.Size([1, 28, 28])\n",
      "Reshaped image shape: torch.Size([28, 28])\n",
      "The label for this image: 1\n"
     ]
    },
    {
     "data": {
      "image/png": "[encoded data removed]",
      "text/plain": [
       "<Figure size 432x288 with 1 Axes>"
      ]
     },
     "metadata": {
      "needs_background": "light"
     },
     "output_type": "display_data"
    }
   ],
   "source": [
    "# Pick out the 4th (0-indexed) example from the training set\n",
    "image, label = mnist_train[3]\n",
    "\n",
    "# Plot the image\n",
    "print(\"Default image shape: {}\".format(image.shape))\n",
    "image = image.reshape([28,28])\n",
    "print(\"Reshaped image shape: {}\".format(image.shape))\n",
    "plt.imshow(image, cmap=\"gray\")\n",
    "\n",
    "# Print the label\n",
    "print(\"The label for this image: {}\".format(label))"
   ]
  },
  {
   "cell_type": "markdown",
   "metadata": {},
   "source": [
    "While we could work directly with the data as a `torchvision.dataset`, we'll find it useful to use a `DataLoader`, which will take care of shuffling and batching:"
   ]
  },
  {
   "cell_type": "code",
   "execution_count": 5,
   "metadata": {},
   "outputs": [],
   "source": [
    "train_loader = torch.utils.data.DataLoader(mnist_train, batch_size=100, shuffle=True)\n",
    "test_loader = torch.utils.data.DataLoader(mnist_test, batch_size=100, shuffle=False)"
   ]
  },
  {
   "cell_type": "markdown",
   "metadata": {},
   "source": [
    "An example of a minibatch drawn from a `DataLoader`:"
   ]
  },
  {
   "cell_type": "code",
   "execution_count": 6,
   "metadata": {
    "scrolled": true
   },
   "outputs": [
    {
     "name": "stdout",
     "output_type": "stream",
     "text": [
      "Shape of the minibatch of images: torch.Size([100, 1, 28, 28])\n",
      "Shape of the minibatch of labels: torch.Size([100])\n"
     ]
    }
   ],
   "source": [
    "data_train_iter = iter(train_loader)\n",
    "images, labels = data_train_iter.next()\n",
    "\n",
    "print(\"Shape of the minibatch of images: {}\".format(images.shape))\n",
    "print(\"Shape of the minibatch of labels: {}\".format(labels.shape))"
   ]
  },
  {
   "cell_type": "markdown",
   "metadata": {},
   "source": [
    "### Logistic Regression Model"
   ]
  },
  {
   "cell_type": "markdown",
   "metadata": {},
   "source": [
    "Now that we have a good feel for how to load our data, let's start putting together our model. \n",
    "In this tutorial, we'll be building a logistic regression model, which is essentially a fully-connected neural network without any hidden layers. \n",
    "While fairly basic, logistic regression can perform surprisingly well on many simple classification tasks.\n",
    "\n",
    "#### The forward pass\n",
    "\n",
    "While our data inputs (which we'll call `x`) are images (i.e. 2-dimensional), MNIST digits are pretty small, and the model we're using is very simple.\n",
    "Thus, we're going to be treating the input as flat vectors.\n",
    "To convert our inputs into row vectors (a.k.a. flattening), we can use `view()`, the equivalent of NumPy's `reshape()`.\n",
    "Also like NumPy, we can replace one of the dimensions of the reshaping with a `-1`, which tells PyTorch to infer this dimension based on the original dimensions and the other specified dimensions.\n",
    "Let's do try this flattening on the minibatch of 100 images we drew in the previous section."
   ]
  },
  {
   "cell_type": "code",
   "execution_count": 7,
   "metadata": {},
   "outputs": [
    {
     "name": "stdout",
     "output_type": "stream",
     "text": [
      "The shape of input x: torch.Size([100, 784])\n"
     ]
    }
   ],
   "source": [
    "x = images.view(-1, 28*28)\n",
    "print(\"The shape of input x: {}\".format(x.shape))"
   ]
  },
  {
   "cell_type": "markdown",
   "metadata": {},
   "source": [
    "To get our predicted probabilities of each digit, let's first start with the probability of a digit being a 1 like the image above. \n",
    "For our simple model, we can start by applying a linear transformation. \n",
    "That is, we multiply each pixel $x_i$ of the input row vector by a weight $w_{i,1}$, sum them all together, and then add a bias $b_1$.\n",
    "This is equivalent to a dot product between the class \"1\" weights and the input:\n",
    "\n",
    "\\begin{align}\n",
    "y_1 = \\sum_i x_i w_{i,1} + b_1\n",
    "\\end{align}\n",
    "\n",
    "The magnitude of this result $y_1$, we'll take as being correlated to our belief in how likely we think the input digit was a 1. \n",
    "The higher the value of $y_1$, the more likely we think the input image $x$ was a 1 (i.e., we'd hope we'd get a relatively large value for $y_1$ for the above image). \n",
    "Remember though, our original goal was to identify all 10 digits, so we actually have:\n",
    "\n",
    "\\begin{align*}\n",
    "y_0 =& \\sum_i x_i w_{i,0} + b_0 \\\\\n",
    "y_1 =& \\sum_i x_i w_{i,1} + b_1 \\\\\n",
    "y_2 =& \\sum_i x_i w_{i,2} + b_2 \\\\\n",
    "y_3 =& \\sum_i x_i w_{i,3} + b_3 \\\\\n",
    "y_4 =& \\sum_i x_i w_{i,4} + b_4 \\\\\n",
    "y_5 =& \\sum_i x_i w_{i,5} + b_5 \\\\\n",
    "y_6 =& \\sum_i x_i w_{i,6} + b_6 \\\\\n",
    "y_7 =& \\sum_i x_i w_{i,7} + b_7 \\\\\n",
    "y_8 =& \\sum_i x_i w_{i,8} + b_8 \\\\\n",
    "y_9 =& \\sum_i x_i w_{i,9} + b_9\n",
    "\\end{align*}\n",
    "\n",
    "We can express this in matrix form as:\n",
    "\n",
    "\\begin{align}\n",
    "y = x W + b \n",
    "\\end{align}\n",
    "\n",
    "To take advantage of parallel computation, we commonly process multiple inputs $x$ at once, in a minibatch.\n",
    "We can stack each input $x$ into a matrix $X$, giving us \n",
    "\n",
    "\\begin{align}\n",
    "Y = X W + b \n",
    "\\end{align}\n",
    "\n",
    "Visualizing the dimensions:\n",
    "\n",
    "<img src=\"Figures/mnist_matmul.PNG\" width=\"500\"/>\n",
    "\n",
    "In our specific example, the minibatch size $m$ is $100$, the dimension of the data is $28 \\times 28=784$, and the number of classes $c$ is $10$.\n",
    "While $X$ and $Y$ are matrices due to the batching, conventionally, they are often given lowercase variable names, as if they were for a single example.\n",
    "We will use `x` and `y` throughout."
   ]
  },
  {
   "cell_type": "markdown",
   "metadata": {},
   "source": [
    "The weight $W$ and bias $b$ make up the parameters of this model.\n",
    "When we say that we want to \"learn the model,\" what we're really trying to do is find good values for every element in $W$ and $b$.\n",
    "Before we begin learning, we need to initialize our parameters to some value, as a starting point.\n",
    "Here, we don't really know what the best values are, so we going to initialize $W$ randomly (using something called [Xavier initialization](http://proceedings.mlr.press/v9/glorot10a.html)), and set $b$ to a vector of zeros."
   ]
  },
  {
   "cell_type": "code",
   "execution_count": 8,
   "metadata": {},
   "outputs": [],
   "source": [
    "# Randomly initialize weights W\n",
    "W = torch.randn(784, 10)/np.sqrt(784)\n",
    "W.requires_grad_()\n",
    "\n",
    "# Initialize bias b as 0s\n",
    "b = torch.zeros(10, requires_grad=True)"
   ]
  },
  {
   "cell_type": "markdown",
   "metadata": {},
   "source": [
    "As both `W` and `b` are parameters we wish to learn, we set `requires_grad` to `True`. \n",
    "This tells PyTorch's autograd to track the gradients for these two variables, and all the variables depending on `W` and `b`.\n",
    "\n",
    "With these model parameters, we compute $y$:"
   ]
  },
  {
   "cell_type": "code",
   "execution_count": 9,
   "metadata": {},
   "outputs": [],
   "source": [
    "# Linear transformation with W and b\n",
    "y = torch.matmul(x, W) + b"
   ]
  },
  {
   "cell_type": "markdown",
   "metadata": {},
   "source": [
    "We can see for example what the predictions look like for the first example in our minibatch. Remember, the bigger the number, the more the model thinks the input $x$ is of that class."
   ]
  },
  {
   "cell_type": "code",
   "execution_count": 10,
   "metadata": {
    "scrolled": true
   },
   "outputs": [
    {
     "name": "stdout",
     "output_type": "stream",
     "text": [
      "tensor([-0.3517,  0.1470,  0.1915, -0.5886,  0.4380,  0.2097,  0.4427,  0.5656,\n",
      "        -0.0335, -0.2907], grad_fn=<SliceBackward>)\n"
     ]
    }
   ],
   "source": [
    "print(y[0,:])"
   ]
  },
  {
   "cell_type": "markdown",
   "metadata": {},
   "source": [
    "We can interpret these values (aka logits) $y$ as probabilities if we normalize them to be positive and add up to 1. In logistic regression, we do this with a softmax:\n",
    "\n",
    "\\begin{align}\n",
    "p(y_i) = \\text{softmax}(y_i) = \\frac{\\text{exp}(y_i)}{\\sum_j\\text{exp}(y_j)}\n",
    "\\end{align}\n",
    "\n",
    "Notice that because the range of the exponential function is always non-negative, and since we're normalizing by the sum, the softmax achieves the desired property of producing values between 0 and 1 that sum to 1. If we look at the case with only 2 classes, we see that the softmax is the multi-class extension of the binary sigmoid function: \n",
    "\n",
    "<img src=\"Figures/Logistic-curve.png\" width=\"300\"/>\n",
    "\n",
    "We can compute the softmax ourselves using the above formula if we'd like, but PyTorch already has the softmax function in `torch.nn.functional`:"
   ]
  },
  {
   "cell_type": "code",
   "execution_count": 11,
   "metadata": {},
   "outputs": [
    {
     "name": "stdout",
     "output_type": "stream",
     "text": [
      "py[0] from equation: tensor([0.0615, 0.1012, 0.1058, 0.0485, 0.1354, 0.1078, 0.1361, 0.1538, 0.0845,\n",
      "        0.0653], grad_fn=<SelectBackward>)\n",
      "py[0] with torch.nn.functional.softmax: tensor([0.0615, 0.1012, 0.1058, 0.0485, 0.1354, 0.1078, 0.1361, 0.1538, 0.0845,\n",
      "        0.0653], grad_fn=<SelectBackward>)\n"
     ]
    }
   ],
   "source": [
    "# Option 1: Softmax to probabilities from equation\n",
    "py_eq = torch.exp(y) / torch.sum(torch.exp(y), dim=1, keepdim=True)\n",
    "print(\"py[0] from equation: {}\".format(py_eq[0]))\n",
    "\n",
    "# Option 2: Softmax to probabilities with torch.nn.functional\n",
    "import torch.nn.functional as F\n",
    "py = F.softmax(y, dim=1)\n",
    "print(\"py[0] with torch.nn.functional.softmax: {}\".format(py[0]))"
   ]
  },
  {
   "cell_type": "markdown",
   "metadata": {},
   "source": [
    "We've now defined the forward pass of our model: given an input image, the graph returns the probabilities the model thinks the input is each of the 10 classes. Are we done?"
   ]
  },
  {
   "cell_type": "markdown",
   "metadata": {},
   "source": [
    "#### The cross-entropy loss\n",
    "\n",
    "This tutorial isn't done yet, so you can probably guess that the answer is not quite. \n",
    "We don't know the values of $W$ and $b$ yet! \n",
    "Remember how we initialized them randomly? \n",
    "Before we adjust any of the weights, we need a way to measure how the model is doing.\n",
    "Specifically, we're going to measure how badly the model is doing.\n",
    "We do this with a *loss* function, which takes the model's prediction and returns a single number (i.e. a scalar) summarizing model performance.\n",
    "This loss will inform how we adjust the parameters of the model.\n",
    "\n",
    "The loss we commonly use in classification is cross-entropy, a concept from information theory.\n",
    "Explaining exactly what the cross-entropy represents goes slightly beyond the scope of this course, but you can think of it as a way of quantifying how far apart one distribution $y'$ is from another $y$.\n",
    "\n",
    "\\begin{align}\n",
    "H_{y'}(y)=-\\sum_i y'_i \\text{log}(y_i)\n",
    "\\end{align}\n",
    "\n",
    "In our case, $y$ is the set of probabilities predicted by the model ($py$ above); $y'$ is the target distribution.\n",
    "What is the target distribution?\n",
    "It's the true label, which is what we wanted the model to predict.\n",
    "\n",
    "Cross-entropy not only captures how *correct* (max probability corresponds to the right answer) the model's answers are, it also accounts for how *confident* (high confidence in correct answers) they are. This encourages the model to produce very high probabilities for correct answers while driving down the probabilities for the wrong answers, instead of merely being satisfied with it being the argmax. \n",
    "\n",
    "We focus here on supervised learning, a setting in which we have the labels.\n",
    "Our `DataLoader` automatically includes the corresponding labels for each of our inputs.\n",
    "Here are the labels from the first time we retrieved a minibatch:"
   ]
  },
  {
   "cell_type": "code",
   "execution_count": 12,
   "metadata": {},
   "outputs": [
    {
     "name": "stdout",
     "output_type": "stream",
     "text": [
      "torch.Size([100])\n"
     ]
    }
   ],
   "source": [
    "print(labels.shape)"
   ]
  },
  {
   "cell_type": "markdown",
   "metadata": {},
   "source": [
    "Like the softmax operation, we can implement the cross-entropy directly from the equation, using the softmax output.\n",
    "However, as with the softmax, `torch.nn.functional` already has the cross-entropy loss implemented as well."
   ]
  },
  {
   "cell_type": "code",
   "execution_count": 13,
   "metadata": {},
   "outputs": [
    {
     "name": "stdout",
     "output_type": "stream",
     "text": [
      "cross entropy from equation: 2.247734785079956\n",
      "cross entropy with torch.nn.functional.cross_entropy: 2.2477352619171143\n"
     ]
    }
   ],
   "source": [
    "# Cross-entropy loss from equation\n",
    "cross_entropy_eq = torch.mean(-torch.log(py_eq)[range(labels.shape[0]),labels])\n",
    "print(\"cross entropy from equation: {}\".format(cross_entropy_eq))\n",
    "\n",
    "# Option 2: cross-entropy loss with torch.nn.functional\n",
    "cross_entropy = F.cross_entropy(y, labels)\n",
    "print(\"cross entropy with torch.nn.functional.cross_entropy: {}\".format(cross_entropy))"
   ]
  },
  {
   "cell_type": "markdown",
   "metadata": {},
   "source": [
    "Note that PyTorch's cross-entropy loss combines the softmax operator and cross-entropy into a single operation, for numerical stability reasons.\n",
    "Don't do the softmax twice!\n",
    "Make sure to feed in the pre-softmax logits `y`, not the post-softmax probabilities `py`."
   ]
  },
  {
   "cell_type": "markdown",
   "metadata": {},
   "source": [
    "#### The backwards pass\n",
    "\n",
    "Now that we have the loss as a way of quantifying how badly the model is doing, we can improve our model by changing the parameters in a way that minimizes the loss.\n",
    "For neural networks, the common way of doing this is with backpropagation: we take the gradient of the loss with respect to $W$ and $b$ and take a step in the direction that reduces our loss.\n",
    "\n",
    "If we were not using a deep learning framework like PyTorch, we would have to go through and derive all the gradients ourselves by hand, then code them into our program. \n",
    "We certainly still could.\n",
    "However, with modern auto-differentiation libraries, it's much faster and easier to let the computer do it.\n",
    "\n",
    "First, we need to create an optimizer.\n",
    "There are many choices, but since logistic regression is fairly simple, we'll use standard stochastic gradient descent (SGD), which makes the following update:\n",
    "\n",
    "\\begin{align}\n",
    "\\theta_{t+1} = \\theta_t - \\alpha \\nabla_\\theta \\mathcal{L}\n",
    "\\end{align}\n",
    "\n",
    "where $\\theta$ is a parameter, $\\alpha$ is our learning rate (step size), and $\\nabla_\\theta \\mathcal{L}$ is the gradient of our loss with respect to $\\theta$."
   ]
  },
  {
   "cell_type": "code",
   "execution_count": 14,
   "metadata": {},
   "outputs": [],
   "source": [
    "# Optimizer\n",
    "optimizer = torch.optim.SGD([W,b], lr=0.1)"
   ]
  },
  {
   "cell_type": "markdown",
   "metadata": {},
   "source": [
    "When we created our parameters $W$ and $b$, we indicated that they require gradients.\n",
    "To compute the gradients for $W$ and $b$, we call the `backward()` function on the cross-entropy loss."
   ]
  },
  {
   "cell_type": "code",
   "execution_count": 15,
   "metadata": {},
   "outputs": [],
   "source": [
    "cross_entropy.backward()"
   ]
  },
  {
   "cell_type": "markdown",
   "metadata": {},
   "source": [
    "Each of the variables that required gradients have now accumulated gradients.\n",
    "We can see these for example on `b`:"
   ]
  },
  {
   "cell_type": "code",
   "execution_count": 16,
   "metadata": {
    "scrolled": true
   },
   "outputs": [
    {
     "data": {
      "text/plain": [
       "tensor([ 0.0085,  0.0014, -0.0290, -0.0391, -0.0384,  0.0238,  0.0757, -0.0292,\n",
       "         0.0102,  0.0160])"
      ]
     },
     "execution_count": 16,
     "metadata": {},
     "output_type": "execute_result"
    }
   ],
   "source": [
    "b.grad"
   ]
  },
  {
   "cell_type": "markdown",
   "metadata": {},
   "source": [
    "To apply the gradients, we could manually update $W$ and $b$ using the update rule $\\theta_{t+1} = \\theta_t - \\alpha \\nabla_\\theta \\mathcal{L}$, but since we have an optimizer, we can tell it to perform the update step for us:"
   ]
  },
  {
   "cell_type": "code",
   "execution_count": 17,
   "metadata": {},
   "outputs": [],
   "source": [
    "optimizer.step()"
   ]
  },
  {
   "cell_type": "markdown",
   "metadata": {},
   "source": [
    "We set our learning rate to 0.1, so `b` has been updated by `-0.1*b.grad`:"
   ]
  },
  {
   "cell_type": "code",
   "execution_count": 18,
   "metadata": {
    "scrolled": false
   },
   "outputs": [
    {
     "data": {
      "text/plain": [
       "tensor([-0.0009, -0.0001,  0.0029,  0.0039,  0.0038, -0.0024, -0.0076,  0.0029,\n",
       "        -0.0010, -0.0016], requires_grad=True)"
      ]
     },
     "execution_count": 18,
     "metadata": {},
     "output_type": "execute_result"
    }
   ],
   "source": [
    "b"
   ]
  },
  {
   "cell_type": "markdown",
   "metadata": {},
   "source": [
    "We've now successfully trained on a minibatch!\n",
    "However, one minibatch probably isn't enough.\n",
    "At this point, we've trained the model on 100 examples out of the 60000 in the training set.\n",
    "We're going to need to repeat this process, for more of the data.\n",
    "\n",
    "One more thing to keep in mind though: gradients calculated by `backward()` don't override the old values; instead, they accumulate.\n",
    "Therefore, you'll want to clear the gradient buffers before you compute gradients for the next minibatch."
   ]
  },
  {
   "cell_type": "code",
   "execution_count": 19,
   "metadata": {},
   "outputs": [
    {
     "name": "stdout",
     "output_type": "stream",
     "text": [
      "b.grad before zero_grad(): tensor([ 0.0085,  0.0014, -0.0290, -0.0391, -0.0384,  0.0238,  0.0757, -0.0292,\n",
      "         0.0102,  0.0160])\n",
      "b.grad after zero_grad(): tensor([0., 0., 0., 0., 0., 0., 0., 0., 0., 0.])\n"
     ]
    }
   ],
   "source": [
    "print(\"b.grad before zero_grad(): {}\".format(b.grad))\n",
    "optimizer.zero_grad()\n",
    "print(\"b.grad after zero_grad(): {}\".format(b.grad))"
   ]
  },
  {
   "cell_type": "markdown",
   "metadata": {},
   "source": [
    "#### Model Training"
   ]
  },
  {
   "cell_type": "markdown",
   "metadata": {},
   "source": [
    "To train the model, we just need repeat what we just did for more minibatches from the training set.\n",
    "As a recap, the steps were:\n",
    "1. Draw a minibatch\n",
    "2. Zero the gradients in the buffers for `W` and `b`\n",
    "3. Perform the forward pass (compute prediction, calculate loss)\n",
    "4. Perform the backward pass (compute gradients, perform SGD step)\n",
    "\n",
    "Going through the entire dataset once is referred to as an epoch.\n",
    "In many cases, we train neural networks for multiple epochs, but here, a single epoch is enough.\n",
    "We also wrap the train_loader with `tqdm`.\n",
    "This isn't neccessary, but it adds a handy progress bar so we can track our training progress."
   ]
  },
  {
   "cell_type": "code",
   "execution_count": 20,
   "metadata": {},
   "outputs": [
    {
     "data": {
      "application/vnd.jupyter.widget-view+json": {
       "model_id": "55f930ba203f4cba8440da4115517d95",
       "version_major": 2,
       "version_minor": 0
      },
      "text/plain": [
       "HBox(children=(FloatProgress(value=0.0, max=600.0), HTML(value='')))"
      ]
     },
     "metadata": {},
     "output_type": "display_data"
    },
    {
     "name": "stdout",
     "output_type": "stream",
     "text": [
      "\n"
     ]
    }
   ],
   "source": [
    "# Iterate through train set minibatchs \n",
    "for images, labels in tqdm(train_loader):\n",
    "    # Zero out the gradients\n",
    "    optimizer.zero_grad()\n",
    "    \n",
    "    # Forward pass\n",
    "    x = images.view(-1, 28*28)\n",
    "    y = torch.matmul(x, W) + b\n",
    "    cross_entropy = F.cross_entropy(y, labels)\n",
    "    # Backward pass\n",
    "    cross_entropy.backward()\n",
    "    optimizer.step()"
   ]
  },
  {
   "cell_type": "markdown",
   "metadata": {},
   "source": [
    "#### Testing"
   ]
  },
  {
   "cell_type": "markdown",
   "metadata": {},
   "source": [
    "Now let's see how we did! \n",
    "For every image in our test set, we run the data through the model, and take the digit in which we have the highest confidence as our answer. \n",
    "We then compute an accuracy by seeing how many we got correct.\n",
    "We're going to wrap evaluation with `torch.no_grad()`, as we're not interested in computing gradients during evaluation.\n",
    "By turning off the autograd engine, we can speed up evaluation."
   ]
  },
  {
   "cell_type": "code",
   "execution_count": 21,
   "metadata": {},
   "outputs": [
    {
     "data": {
      "application/vnd.jupyter.widget-view+json": {
       "model_id": "8dc8458a5bf14707a5028338e3b3e71a",
       "version_major": 2,
       "version_minor": 0
      },
      "text/plain": [
       "HBox(children=(FloatProgress(value=0.0), HTML(value='')))"
      ]
     },
     "metadata": {},
     "output_type": "display_data"
    },
    {
     "name": "stdout",
     "output_type": "stream",
     "text": [
      "\n",
      "Test accuracy: 0.9031000137329102\n"
     ]
    }
   ],
   "source": [
    "correct = 0\n",
    "total = len(mnist_test)\n",
    "\n",
    "with torch.no_grad():\n",
    "    # Iterate through test set minibatchs \n",
    "    for images, labels in tqdm(test_loader):\n",
    "        # Forward pass\n",
    "        x = images.view(-1, 28*28)\n",
    "        y = torch.matmul(x, W) + b\n",
    "        \n",
    "        predictions = torch.argmax(y, dim=1)\n",
    "        correct += torch.sum((predictions == labels).float())\n",
    "    \n",
    "print('Test accuracy: {}'.format(correct/total))"
   ]
  },
  {
   "cell_type": "markdown",
   "metadata": {},
   "source": [
    "Not bad for a simple model and a few lines of code.\n",
    "Before we conclude this example, there's one more interesting thing we can do. \n",
    "Normally, it can be difficult to inspect exactly what the filters in a model are doing, but since this model is so simple, and the weights transform the data directly to their logits, we can actually visualize what the model's learning by simply plotting the weights. \n",
    "The results look pretty reasonable:"
   ]
  },
  {
   "cell_type": "code",
   "execution_count": 22,
   "metadata": {
    "scrolled": true
   },
   "outputs": [
    {
     "data": {
      "image/png": "[encoded data removed]",
      "text/plain": [
       "<Figure size 1440x144 with 10 Axes>"
      ]
     },
     "metadata": {
      "needs_background": "light"
     },
     "output_type": "display_data"
    }
   ],
   "source": [
    "# Get weights\n",
    "fig, ax = plt.subplots(1, 10, figsize=(20, 2))\n",
    "\n",
    "for digit in range(10):\n",
    "    ax[digit].imshow(W[:,digit].detach().view(28,28), cmap='gray')"
   ]
  },
  {
   "cell_type": "markdown",
   "metadata": {},
   "source": [
    "As we can see, the model learned a template for each digit.\n",
    "Remember that our model takes a dot product between the weights of each digit and input.\n",
    "Therefore, the more the input matches the template for a digit, the higher the value of the dot product for that digit will be, which makes the model more likely to predict that digit."
   ]
  },
  {
   "cell_type": "markdown",
   "metadata": {},
   "source": [
    "#### The Full Code"
   ]
  },
  {
   "cell_type": "markdown",
   "metadata": {},
   "source": [
    "The entire model, with the complete model definition, training, and evaluation (but minus the weights visualization) as independently runable code:"
   ]
  },
  {
   "cell_type": "code",
   "execution_count": 23,
   "metadata": {},
   "outputs": [
    {
     "data": {
      "application/vnd.jupyter.widget-view+json": {
       "model_id": "bb39fcb0333e4082a5f76d99ae5cd9cb",
       "version_major": 2,
       "version_minor": 0
      },
      "text/plain": [
       "HBox(children=(FloatProgress(value=0.0, max=600.0), HTML(value='')))"
      ]
     },
     "metadata": {},
     "output_type": "display_data"
    },
    {
     "name": "stdout",
     "output_type": "stream",
     "text": [
      "\n"
     ]
    },
    {
     "data": {
      "application/vnd.jupyter.widget-view+json": {
       "model_id": "f3235569d4304b39af0463c47135f129",
       "version_major": 2,
       "version_minor": 0
      },
      "text/plain": [
       "HBox(children=(FloatProgress(value=0.0), HTML(value='')))"
      ]
     },
     "metadata": {},
     "output_type": "display_data"
    },
    {
     "name": "stdout",
     "output_type": "stream",
     "text": [
      "\n",
      "Test accuracy: 0.902400016784668\n"
     ]
    }
   ],
   "source": [
    "import numpy as np\n",
    "import torch\n",
    "import torch.nn.functional as F\n",
    "from torchvision import datasets, transforms\n",
    "from tqdm.notebook import tqdm\n",
    "\n",
    "# Load the data\n",
    "mnist_train = datasets.MNIST(root=\"./datasets\", train=True, transform=transforms.ToTensor(), download=True)\n",
    "mnist_test = datasets.MNIST(root=\"./datasets\", train=False, transform=transforms.ToTensor(), download=True)\n",
    "train_loader = torch.utils.data.DataLoader(mnist_train, batch_size=100, shuffle=True)\n",
    "test_loader = torch.utils.data.DataLoader(mnist_test, batch_size=100, shuffle=False)\n",
    "\n",
    "## Training\n",
    "# Initialize parameters\n",
    "W = torch.randn(784, 10)/np.sqrt(784)\n",
    "W.requires_grad_()\n",
    "b = torch.zeros(10, requires_grad=True)\n",
    "\n",
    "# Optimizer\n",
    "optimizer = torch.optim.SGD([W,b], lr=0.1)\n",
    "\n",
    "# Iterate through train set minibatchs \n",
    "for images, labels in tqdm(train_loader):\n",
    "    # Zero out the gradients\n",
    "    optimizer.zero_grad()\n",
    "    \n",
    "    # Forward pass\n",
    "    x = images.view(-1, 28*28)\n",
    "    y = torch.matmul(x, W) + b\n",
    "    cross_entropy = F.cross_entropy(y, labels)\n",
    "    # Backward pass\n",
    "    cross_entropy.backward()\n",
    "    optimizer.step()\n",
    "\n",
    "## Testing\n",
    "correct = 0\n",
    "total = len(mnist_test)\n",
    "\n",
    "with torch.no_grad():\n",
    "    # Iterate through test set minibatchs \n",
    "    for images, labels in tqdm(test_loader):\n",
    "        # Forward pass\n",
    "        x = images.view(-1, 28*28)\n",
    "        y = torch.matmul(x, W) + b\n",
    "        \n",
    "        predictions = torch.argmax(y, dim=1)\n",
    "        correct += torch.sum((predictions == labels).float())\n",
    "    \n",
    "print('Test accuracy: {}'.format(correct/total))"
   ]
  },
  {
   "cell_type": "markdown",
   "metadata": {},
   "source": [
    "Note: The accuracy from the full version directly above might return a slightly different test accuracy from the step-by-step version we first went through. \n",
    "We trained our model with stochastic gradient descent (SGD), with the word \"stochastic\" highlighting that training is an inherently random process."
   ]
  },
  {
   "cell_type": "markdown",
   "metadata": {},
   "source": [
    "### Higher level APIs"
   ]
  },
  {
   "cell_type": "markdown",
   "metadata": {},
   "source": [
    "So far, we've primarily been building neural networks with fairy basic PyTorch operations.\n",
    "We did this to provide a clearer picture of how models actually work and what's going on under the hood.\n",
    "This can be important as you're learning concepts and the various frameworks, and sometimes the low-level control is necessary if you're trying to build something novel.\n",
    "\n",
    "However, most of the time, we do find ourselves repeating the same fairly standard lines of code, which can slow us down. \n",
    "Worse, it clutters up our code unnecessarily and introduces room for bugs and typos.\n",
    "And finally, as researchers or engineers, we would like to spend most of our time thinking on the highest levels of abstractions: I want to add a convolution layer here, then a fully-connected there, etc.\n",
    "Having to code all the small details are distractions that can detract from our ability to translate ideas into code.\n",
    "For this reason, PyTorch has higher level abstractions to help speed up implementation and improve model organization.\n",
    "While there are many ways to organize PyTorch code, one common paradigm is with `torch.nn.Module`.\n",
    "\n",
    "#### Object-oriented Refactorization\n",
    "\n",
    "It often makes sense for us to code our models in an [object-oriented manner](https://realpython.com/python3-object-oriented-programming/).\n",
    "To understand why, let's look back at the linear transformation $y = xW + b$ that we used for logistic regression. \n",
    "We can see that while the operation consisted of a matrix multiplication and addition, also associated with this operation was the instantiation of two parameters `W` and `b`, and these two parameters conceptually *belong* to the transform.\n",
    "As such, it would make sense to bundle up the instantiation of the two parameters with the actual transformation:"
   ]
  },
  {
   "cell_type": "code",
   "execution_count": 24,
   "metadata": {},
   "outputs": [],
   "source": [
    "# Note: illustrative example only; see below for torch.nn usage\n",
    "class xW_plus_b:\n",
    "    def __init__(self, dim_in, dim_out):\n",
    "        self.W = torch.randn(dim_in, dim_out)/np.sqrt(dim_in)\n",
    "        self.W.requires_grad_()\n",
    "        self.b = torch.zeros(dim_out, requires_grad=True)\n",
    "        \n",
    "    def forward(self, x):\n",
    "        return torch.matmul(x, self.W) + self.b"
   ]
  },
  {
   "cell_type": "markdown",
   "metadata": {},
   "source": [
    "To use what we just wrote, we can create an `xW_plus_b` instance using its `__init__()` method (the constructor).\n",
    "In this case, we're going to set the dimensions to be 784 and 10, as we did in our logisitic regression example above.\n",
    "This creates an `xW_plus_b` instance with two parameters `W` and `b`."
   ]
  },
  {
   "cell_type": "code",
   "execution_count": 25,
   "metadata": {},
   "outputs": [
    {
     "name": "stdout",
     "output_type": "stream",
     "text": [
      "W: torch.Size([784, 10])\n",
      "b: torch.Size([10])\n"
     ]
    }
   ],
   "source": [
    "# Note: illustrative example only; see below for torch.nn usage\n",
    "lin_custom = xW_plus_b(784, 10)\n",
    "print(\"W: {}\".format(lin_custom.W.shape))\n",
    "print(\"b: {}\".format(lin_custom.b.shape))"
   ]
  },
  {
   "cell_type": "markdown",
   "metadata": {},
   "source": [
    "After instantiating the instance, we can perform the actual linear transform of our custom `xW_plus_b` class by calling the instance's `forward()` function:"
   ]
  },
  {
   "cell_type": "code",
   "execution_count": 26,
   "metadata": {},
   "outputs": [
    {
     "name": "stdout",
     "output_type": "stream",
     "text": [
      "torch.Size([1, 10])\n"
     ]
    }
   ],
   "source": [
    "# Note: illustrative example only; see below for torch.nn usage\n",
    "x_rand = torch.randn(1,784)\n",
    "y = lin_custom.forward(x_rand)\n",
    "print(y.shape)"
   ]
  },
  {
   "cell_type": "markdown",
   "metadata": {},
   "source": [
    "#### Using  `torch.nn`\n",
    "\n",
    "While we can certainly implement our own classes for the operations we'd like to use, we don't have to, as PyTorch already has them in the `torch.nn` sublibrary. "
   ]
  },
  {
   "cell_type": "code",
   "execution_count": 27,
   "metadata": {},
   "outputs": [],
   "source": [
    "import torch.nn as nn"
   ]
  },
  {
   "cell_type": "markdown",
   "metadata": {},
   "source": [
    "For example, the linear transform example we just went through is called `torch.nn.Linear`:"
   ]
  },
  {
   "cell_type": "code",
   "execution_count": 28,
   "metadata": {},
   "outputs": [
    {
     "name": "stdout",
     "output_type": "stream",
     "text": [
      "Linear parameters: [torch.Size([10, 784]), torch.Size([10])]\n",
      "torch.Size([1, 10])\n"
     ]
    }
   ],
   "source": [
    "lin = nn.Linear(784, 10)\n",
    "print(\"Linear parameters: {}\".format([p.shape for p in lin.parameters()]))\n",
    "\n",
    "y = lin(x_rand)\n",
    "print(y.shape)"
   ]
  },
  {
   "cell_type": "markdown",
   "metadata": {},
   "source": [
    "The implementation for `nn.Linear` has a few more things under the hood (notice for example that the `forward()` function is aliased with calling the instance itself), but in spirit, it operates in much the same way as our custom `xW_plus_b` class.\n",
    "In the first line, we instantiate a `Linear` object, which automatically creates weight and bias variables of the specified dimensions.\n",
    "The fourth line then calls the `forward()` function (aliased with the object call), which performs the linear transformation."
   ]
  },
  {
   "cell_type": "markdown",
   "metadata": {},
   "source": [
    "#### Using `torch.nn.Module`\n",
    "\n",
    "The `torch.nn.Linear` class we just saw is a subclass of `torch.nn.Module`.\n",
    "However, `Module`s do not have to just describe a single operation; they can also define a chain of operations, each of which may also be `Module`s.\n",
    "As such, we can place our entire neural network within a `Module`.\n",
    "In this case, the module can track all of its associated parameters, some of which may also be associated with a submodule (e.g. `nn.Linear`), while also defining the `forward()` function, in one place."
   ]
  },
  {
   "cell_type": "code",
   "execution_count": 29,
   "metadata": {},
   "outputs": [],
   "source": [
    "class MNIST_Logistic_Regression(nn.Module):\n",
    "    def __init__(self):\n",
    "        super().__init__()\n",
    "        self.lin = nn.Linear(784, 10)\n",
    "\n",
    "    def forward(self, x):\n",
    "        return self.lin(x)"
   ]
  },
  {
   "cell_type": "markdown",
   "metadata": {},
   "source": [
    "In this particular example, we didn't need to chain any operations, but we'll see this come in handy as we move on to more complex models.\n",
    "Additionally, the `nn.Module` that we subclassed has a few other nice features.\n",
    "For example:\n",
    "- The `forward()` function of a `nn.Module` will call the `forward()` function of any child `nn.Module`s.\n",
    "- `print()` will print out a formatted summary of our model, recursively summarizing any child `nn.Module`s as well.\n",
    "- The `parameters()` function will return a generator that returns all parameters of a `nn.Module` (including those of any children)."
   ]
  },
  {
   "cell_type": "code",
   "execution_count": 30,
   "metadata": {},
   "outputs": [
    {
     "name": "stdout",
     "output_type": "stream",
     "text": [
      "The model: \n",
      "MNIST_Logistic_Regression(\n",
      "  (lin): Linear(in_features=784, out_features=10, bias=True)\n",
      ")\n",
      "\n",
      "Parameters: \n",
      "[Parameter containing:\n",
      "tensor([[ 0.0295,  0.0237, -0.0181,  ..., -0.0068,  0.0232, -0.0269],\n",
      "        [ 0.0081,  0.0063,  0.0142,  ...,  0.0165,  0.0308, -0.0250],\n",
      "        [-0.0292,  0.0164, -0.0066,  ..., -0.0103,  0.0014,  0.0096],\n",
      "        ...,\n",
      "        [ 0.0240, -0.0121, -0.0171,  ...,  0.0204, -0.0321,  0.0252],\n",
      "        [ 0.0301, -0.0335,  0.0284,  ..., -0.0349, -0.0133, -0.0282],\n",
      "        [ 0.0107,  0.0174, -0.0254,  ...,  0.0287, -0.0184,  0.0202]],\n",
      "       requires_grad=True), Parameter containing:\n",
      "tensor([ 0.0313, -0.0272,  0.0126,  0.0098, -0.0130, -0.0274, -0.0285, -0.0198,\n",
      "         0.0135,  0.0248], requires_grad=True)]\n",
      "\n",
      "Output shape: \n",
      "torch.Size([1, 10])\n"
     ]
    }
   ],
   "source": [
    "model = MNIST_Logistic_Regression()\n",
    "y = model(x_rand)\n",
    "print(\"The model: \\n{}\".format(model))\n",
    "print(\"\\nParameters: \\n{}\".format(list(model.parameters())))\n",
    "print(\"\\nOutput shape: \\n{}\".format(y.shape))"
   ]
  },
  {
   "cell_type": "markdown",
   "metadata": {},
   "source": [
    "#### Full code with `nn.Module`\n",
    "\n",
    "Refactoring our previous complete logistic regression code to use a `nn.Module`:"
   ]
  },
  {
   "cell_type": "code",
   "execution_count": 31,
   "metadata": {},
   "outputs": [
    {
     "data": {
      "application/vnd.jupyter.widget-view+json": {
       "model_id": "3a7f246164e446d6b2391e7bd0ead530",
       "version_major": 2,
       "version_minor": 0
      },
      "text/plain": [
       "HBox(children=(FloatProgress(value=0.0, max=600.0), HTML(value='')))"
      ]
     },
     "metadata": {},
     "output_type": "display_data"
    },
    {
     "name": "stdout",
     "output_type": "stream",
     "text": [
      "\n"
     ]
    },
    {
     "data": {
      "application/vnd.jupyter.widget-view+json": {
       "model_id": "10ea77bbd37a423c8ff6a857b9e67559",
       "version_major": 2,
       "version_minor": 0
      },
      "text/plain": [
       "HBox(children=(FloatProgress(value=0.0), HTML(value='')))"
      ]
     },
     "metadata": {},
     "output_type": "display_data"
    },
    {
     "name": "stdout",
     "output_type": "stream",
     "text": [
      "\n",
      "Test accuracy: 0.9010000228881836\n"
     ]
    }
   ],
   "source": [
    "import numpy as np\n",
    "import torch\n",
    "import torch.nn as nn\n",
    "import torch.nn.functional as F\n",
    "from torchvision import datasets, transforms\n",
    "from tqdm.notebook import tqdm\n",
    "\n",
    "class MNIST_Logistic_Regression(nn.Module):\n",
    "    def __init__(self):\n",
    "        super().__init__()\n",
    "        self.lin = nn.Linear(784, 10)\n",
    "\n",
    "    def forward(self, x):\n",
    "        return self.lin(x)\n",
    "\n",
    "# Load the data\n",
    "mnist_train = datasets.MNIST(root=\"./datasets\", train=True, transform=transforms.ToTensor(), download=True)\n",
    "mnist_test = datasets.MNIST(root=\"./datasets\", train=False, transform=transforms.ToTensor(), download=True)\n",
    "train_loader = torch.utils.data.DataLoader(mnist_train, batch_size=100, shuffle=True)\n",
    "test_loader = torch.utils.data.DataLoader(mnist_test, batch_size=100, shuffle=False)\n",
    "\n",
    "## Training\n",
    "# Instantiate model\n",
    "model = MNIST_Logistic_Regression()\n",
    "\n",
    "# Loss and Optimizer\n",
    "criterion = nn.CrossEntropyLoss()\n",
    "optimizer = torch.optim.SGD(model.parameters(), lr=0.1)\n",
    "\n",
    "# Iterate through train set minibatchs \n",
    "for images, labels in tqdm(train_loader):\n",
    "    # Zero out the gradients\n",
    "    optimizer.zero_grad()\n",
    "    \n",
    "    # Forward pass\n",
    "    x = images.view(-1, 28*28)\n",
    "    y = model(x)\n",
    "    loss = criterion(y, labels)\n",
    "    # Backward pass\n",
    "    loss.backward()\n",
    "    optimizer.step()\n",
    "\n",
    "## Testing\n",
    "correct = 0\n",
    "total = len(mnist_test)\n",
    "\n",
    "with torch.no_grad():\n",
    "    # Iterate through test set minibatchs \n",
    "    for images, labels in tqdm(test_loader):\n",
    "        # Forward pass\n",
    "        x = images.view(-1, 28*28)\n",
    "        y = model(x)\n",
    "        \n",
    "        predictions = torch.argmax(y, dim=1)\n",
    "        correct += torch.sum((predictions == labels).float())\n",
    "    \n",
    "print('Test accuracy: {}'.format(correct/total))"
   ]
  },
  {
   "cell_type": "markdown",
   "metadata": {},
   "source": [
    "While the benefits of organizing a model as a `nn.Module` may not be as obvious for a simple logistic regression model, such a programming style allows for much quicker and cleaner implementations for more complex models, as we'll see in later notebooks."
   ]
  }
 ],
 "metadata": {
  "kernelspec": {
   "display_name": "Python 3",
   "language": "python",
   "name": "python3"
  },
  "language_info": {
   "codemirror_mode": {
    "name": "ipython",
    "version": 3
   },
   "file_extension": ".py",
   "mimetype": "text/x-python",
   "name": "python",
   "nbconvert_exporter": "python",
   "pygments_lexer": "ipython3",
   "version": "3.7.6"
  },
  "widgets": {
   "application/vnd.jupyter.widget-state+json": {
    "state": {
     "00ab3361f9b948b48b0976623b0a83a7": {
      "model_module": "@jupyter-widgets/base",
      "model_module_version": "1.2.0",
      "model_name": "LayoutModel",
      "state": {}
     },
     "02ba6fc556654c0bad4a145c4b17418c": {
      "model_module": "@jupyter-widgets/controls",
      "model_module_version": "1.5.0",
      "model_name": "DescriptionStyleModel",
      "state": {
       "description_width": ""
      }
     },
     "03770380477d40069927db8dba2ecc34": {
      "model_module": "@jupyter-widgets/controls",
      "model_module_version": "1.5.0",
      "model_name": "DescriptionStyleModel",
      "state": {
       "description_width": ""
      }
     },
     "04a01f520eaf4d1a8ebc8689fc58c824": {
      "model_module": "@jupyter-widgets/controls",
      "model_module_version": "1.5.0",
      "model_name": "HTMLModel",
      "state": {
       "layout": "IPY_MODEL_26d5c364d9f04653ac0ae8767c252a89",
       "style": "IPY_MODEL_5081bd58b2c548079ae99dce7948daa1",
       "value": " 600/600 [00:19&lt;00:00, 30.41it/s]"
      }
     },
     "05372d8d36294452a3a083d0e7844c96": {
      "model_module": "@jupyter-widgets/controls",
      "model_module_version": "1.5.0",
      "model_name": "HTMLModel",
      "state": {
       "layout": "IPY_MODEL_cbc29e26fbbd461ab309214dac56a9ce",
       "style": "IPY_MODEL_232cd012d52d437daabfba407e796fbc",
       "value": " 100/100 [00:03&lt;00:00, 29.56it/s]"
      }
     },
     "0645f6470aad4651bab08c97952a0a24": {
      "model_module": "@jupyter-widgets/controls",
      "model_module_version": "1.5.0",
      "model_name": "HBoxModel",
      "state": {
       "children": [
        "IPY_MODEL_55001bfcd7dd4a0db1f8170c55fc99a9",
        "IPY_MODEL_04a01f520eaf4d1a8ebc8689fc58c824"
       ],
       "layout": "IPY_MODEL_f045f24016f5412696ccd4d42d3ac4a6"
      }
     },
     "070afb362477408c98244dcab5f6f78d": {
      "model_module": "@jupyter-widgets/controls",
      "model_module_version": "1.5.0",
      "model_name": "HTMLModel",
      "state": {
       "layout": "IPY_MODEL_5ebbf75c554e4ada93d74270c4550786",
       "style": "IPY_MODEL_3258e34f678f45839bdea8d59f2aa1c3",
       "value": " 100/100 [00:02&lt;00:00, 46.13it/s]"
      }
     },
     "08127475b3c0456db3db286c913b7271": {
      "model_module": "@jupyter-widgets/controls",
      "model_module_version": "1.5.0",
      "model_name": "ProgressStyleModel",
      "state": {
       "description_width": "initial"
      }
     },
     "0932d5c51b9b43eb96c0de08e3f7912d": {
      "model_module": "@jupyter-widgets/controls",
      "model_module_version": "1.5.0",
      "model_name": "IntProgressModel",
      "state": {
       "bar_style": "success",
       "description": "100%",
       "layout": "IPY_MODEL_70837d601e064314987516a48f246429",
       "max": 600,
       "style": "IPY_MODEL_d47fa458994a4c2d9922b6daf4779539",
       "value": 600
      }
     },
     "0b73de309f0e4622960445b5e67b0f23": {
      "model_module": "@jupyter-widgets/controls",
      "model_module_version": "1.5.0",
      "model_name": "DescriptionStyleModel",
      "state": {
       "description_width": ""
      }
     },
     "0b90a0686fef47dc8985949c412ebf43": {
      "model_module": "@jupyter-widgets/controls",
      "model_module_version": "1.5.0",
      "model_name": "IntProgressModel",
      "state": {
       "bar_style": "success",
       "description": "100%",
       "layout": "IPY_MODEL_53ae2d18383a43ebb7a2327b62efdbfe",
       "style": "IPY_MODEL_7e87dbe6f0484a6d891c4359f362f2ba",
       "value": 100
      }
     },
     "0c18433b48ac4be0b0e037d5be0c63f8": {
      "model_module": "@jupyter-widgets/base",
      "model_module_version": "1.2.0",
      "model_name": "LayoutModel",
      "state": {}
     },
     "0dcf2e7c51d04f5da15ede8dd49f0eac": {
      "model_module": "@jupyter-widgets/controls",
      "model_module_version": "1.5.0",
      "model_name": "DescriptionStyleModel",
      "state": {
       "description_width": ""
      }
     },
     "1110c89bcb7948b8a4081f188c8f053f": {
      "model_module": "@jupyter-widgets/base",
      "model_module_version": "1.2.0",
      "model_name": "LayoutModel",
      "state": {}
     },
     "13366e3937e24dc4bf9254771e0ac514": {
      "model_module": "@jupyter-widgets/base",
      "model_module_version": "1.2.0",
      "model_name": "LayoutModel",
      "state": {}
     },
     "139a26066e2a453a92a5741ac7440a3f": {
      "model_module": "@jupyter-widgets/controls",
      "model_module_version": "1.5.0",
      "model_name": "ProgressStyleModel",
      "state": {
       "description_width": "initial"
      }
     },
     "180345d08d3e43fa88bf97bc5cb3f4b1": {
      "model_module": "@jupyter-widgets/controls",
      "model_module_version": "1.5.0",
      "model_name": "DescriptionStyleModel",
      "state": {
       "description_width": ""
      }
     },
     "19ad38959222414cab16faf7bd42713f": {
      "model_module": "@jupyter-widgets/controls",
      "model_module_version": "1.5.0",
      "model_name": "IntProgressModel",
      "state": {
       "bar_style": "success",
       "description": "100%",
       "layout": "IPY_MODEL_ab3028b53595467b92c4906fb61ba183",
       "max": 600,
       "style": "IPY_MODEL_22d2a9019d9c4417883d571b24405d10",
       "value": 600
      }
     },
     "1b2e84ba16de427fa17a661d4033d276": {
      "model_module": "@jupyter-widgets/controls",
      "model_module_version": "1.5.0",
      "model_name": "FloatProgressModel",
      "state": {
       "bar_style": "success",
       "description": "100%",
       "layout": "IPY_MODEL_56f455eeb9624937980c91d59d0a72ed",
       "style": "IPY_MODEL_e988071311e640fd84d509864d1c64b6",
       "value": 100
      }
     },
     "1cb1d5db956f4c1599f362159649c5cb": {
      "model_module": "@jupyter-widgets/controls",
      "model_module_version": "1.5.0",
      "model_name": "ProgressStyleModel",
      "state": {
       "description_width": "initial"
      }
     },
     "1e340c6bb86f4a068e41cbb423949885": {
      "model_module": "@jupyter-widgets/controls",
      "model_module_version": "1.5.0",
      "model_name": "HBoxModel",
      "state": {
       "children": [
        "IPY_MODEL_19ad38959222414cab16faf7bd42713f",
        "IPY_MODEL_d1e25145f12b42a3be57a6aace611870"
       ],
       "layout": "IPY_MODEL_6029a556c8d543f9929a6e553bf4a9a5"
      }
     },
     "1ebda3e2449a4577be0b36950eff50ae": {
      "model_module": "@jupyter-widgets/controls",
      "model_module_version": "1.5.0",
      "model_name": "HBoxModel",
      "state": {
       "children": [
        "IPY_MODEL_cd4ee4fec9a845c3a17cbc5516345a56",
        "IPY_MODEL_a52554c238f84cefa9e52f4ea05c75e7"
       ],
       "layout": "IPY_MODEL_e3e090911b134c2f9f59b1f8cdddcf4b"
      }
     },
     "21606ea13c9c4afa8ef95cd727230bdc": {
      "model_module": "@jupyter-widgets/base",
      "model_module_version": "1.2.0",
      "model_name": "LayoutModel",
      "state": {}
     },
     "22d2a9019d9c4417883d571b24405d10": {
      "model_module": "@jupyter-widgets/controls",
      "model_module_version": "1.5.0",
      "model_name": "ProgressStyleModel",
      "state": {
       "description_width": "initial"
      }
     },
     "232cd012d52d437daabfba407e796fbc": {
      "model_module": "@jupyter-widgets/controls",
      "model_module_version": "1.5.0",
      "model_name": "DescriptionStyleModel",
      "state": {
       "description_width": ""
      }
     },
     "25f6dea15b0448fd941133106d8d1d37": {
      "model_module": "@jupyter-widgets/controls",
      "model_module_version": "1.5.0",
      "model_name": "ProgressStyleModel",
      "state": {
       "description_width": "initial"
      }
     },
     "26d5c364d9f04653ac0ae8767c252a89": {
      "model_module": "@jupyter-widgets/base",
      "model_module_version": "1.2.0",
      "model_name": "LayoutModel",
      "state": {}
     },
     "28859aee2b35402d9a371a808b0f77af": {
      "model_module": "@jupyter-widgets/controls",
      "model_module_version": "1.5.0",
      "model_name": "DescriptionStyleModel",
      "state": {
       "description_width": ""
      }
     },
     "30309ea05c174448943ecb5ba92ae0e5": {
      "model_module": "@jupyter-widgets/base",
      "model_module_version": "1.2.0",
      "model_name": "LayoutModel",
      "state": {}
     },
     "312e9fe46c29463999edfd8af1ade5b9": {
      "model_module": "@jupyter-widgets/controls",
      "model_module_version": "1.5.0",
      "model_name": "IntProgressModel",
      "state": {
       "bar_style": "success",
       "description": "100%",
       "layout": "IPY_MODEL_6dadd75dd8224017a21fea4302e957aa",
       "style": "IPY_MODEL_a4d777e8f0994329912efaab8f50d747",
       "value": 100
      }
     },
     "3258e34f678f45839bdea8d59f2aa1c3": {
      "model_module": "@jupyter-widgets/controls",
      "model_module_version": "1.5.0",
      "model_name": "DescriptionStyleModel",
      "state": {
       "description_width": ""
      }
     },
     "32e9a047ea3a41439e5d83ecc5310ddb": {
      "model_module": "@jupyter-widgets/controls",
      "model_module_version": "1.5.0",
      "model_name": "HTMLModel",
      "state": {
       "layout": "IPY_MODEL_a52ede1b19f84fa1887ca5c33686b97e",
       "style": "IPY_MODEL_acd64aff4bd24ec49aef585414303fab",
       "value": " 100/100 [00:02&lt;00:00, 35.70it/s]"
      }
     },
     "33724df2f1a3433bbb26aa18bc88b126": {
      "model_module": "@jupyter-widgets/controls",
      "model_module_version": "1.5.0",
      "model_name": "IntProgressModel",
      "state": {
       "bar_style": "success",
       "description": "100%",
       "layout": "IPY_MODEL_e1d28e912a1d40d8890d9946c1f86981",
       "style": "IPY_MODEL_cabcc13852074e07a8d322cd99f24e5e",
       "value": 100
      }
     },
     "3877f7bc979a4999a78e0ca12a2efd2f": {
      "model_module": "@jupyter-widgets/controls",
      "model_module_version": "1.5.0",
      "model_name": "HTMLModel",
      "state": {
       "layout": "IPY_MODEL_fb696dfe7bae4a00b375d9c7c6053293",
       "style": "IPY_MODEL_42473977bd5248308eca1210a128bdae",
       "value": " 100/100 [00:01&lt;00:00, 52.80it/s]"
      }
     },
     "3b47462712754c9484f4bb97183b127f": {
      "model_module": "@jupyter-widgets/controls",
      "model_module_version": "1.5.0",
      "model_name": "ProgressStyleModel",
      "state": {
       "description_width": "initial"
      }
     },
     "3bf1ea9535ad49c189eafc90c872c079": {
      "model_module": "@jupyter-widgets/controls",
      "model_module_version": "1.5.0",
      "model_name": "DescriptionStyleModel",
      "state": {
       "description_width": ""
      }
     },
     "4112ba3474384d839e66ffaaab8f2355": {
      "model_module": "@jupyter-widgets/controls",
      "model_module_version": "1.5.0",
      "model_name": "HTMLModel",
      "state": {
       "layout": "IPY_MODEL_c0971f8cf1284aaca0068c0b57d6cab0",
       "style": "IPY_MODEL_28859aee2b35402d9a371a808b0f77af",
       "value": " 600/600 [00:16&lt;00:00, 35.95it/s]"
      }
     },
     "42473977bd5248308eca1210a128bdae": {
      "model_module": "@jupyter-widgets/controls",
      "model_module_version": "1.5.0",
      "model_name": "DescriptionStyleModel",
      "state": {
       "description_width": ""
      }
     },
     "42c21b2eb4834c7b84838c3831e2f34b": {
      "model_module": "@jupyter-widgets/controls",
      "model_module_version": "1.5.0",
      "model_name": "DescriptionStyleModel",
      "state": {
       "description_width": ""
      }
     },
     "45759a4191104054b18f78f161e4114b": {
      "model_module": "@jupyter-widgets/base",
      "model_module_version": "1.2.0",
      "model_name": "LayoutModel",
      "state": {}
     },
     "46fbadc7425740fd9a72f8034a4e6753": {
      "model_module": "@jupyter-widgets/base",
      "model_module_version": "1.2.0",
      "model_name": "LayoutModel",
      "state": {}
     },
     "479ef10b25b44072bf9b62bb3244e1f8": {
      "model_module": "@jupyter-widgets/base",
      "model_module_version": "1.2.0",
      "model_name": "LayoutModel",
      "state": {}
     },
     "48e29dbfe2f64b07adb36bf03501699d": {
      "model_module": "@jupyter-widgets/controls",
      "model_module_version": "1.5.0",
      "model_name": "HBoxModel",
      "state": {
       "children": [
        "IPY_MODEL_ffeae8ce8dde457eb2ba3ec954e2216e",
        "IPY_MODEL_d393ae32b0a94f1d8591995c66f71243"
       ],
       "layout": "IPY_MODEL_fb6e26311b32443391e4a1ce19de0678"
      }
     },
     "4b92c8e1cdcb4ea2a3622474cab1a875": {
      "model_module": "@jupyter-widgets/controls",
      "model_module_version": "1.5.0",
      "model_name": "ProgressStyleModel",
      "state": {
       "description_width": "initial"
      }
     },
     "4bec82b3e28441f78808b30d623eded8": {
      "model_module": "@jupyter-widgets/controls",
      "model_module_version": "1.5.0",
      "model_name": "IntProgressModel",
      "state": {
       "bar_style": "success",
       "description": "100%",
       "layout": "IPY_MODEL_f65f7b566392443eab4238881599bb42",
       "max": 600,
       "style": "IPY_MODEL_5d83d8f891bb47489b5eebd8331f97d1",
       "value": 600
      }
     },
     "4c2af1030c8246eda9ccc184abd348d1": {
      "model_module": "@jupyter-widgets/base",
      "model_module_version": "1.2.0",
      "model_name": "LayoutModel",
      "state": {}
     },
     "4c83d21fbe2546b1bc75b37618873f65": {
      "model_module": "@jupyter-widgets/controls",
      "model_module_version": "1.5.0",
      "model_name": "HBoxModel",
      "state": {
       "children": [
        "IPY_MODEL_0932d5c51b9b43eb96c0de08e3f7912d",
        "IPY_MODEL_bfb0ba4f81f14080b9924db914dcf40c"
       ],
       "layout": "IPY_MODEL_630457eddaf54d7cafe66f26ab1d46a7"
      }
     },
     "4e39f76cfaa941b0a5ad44075c7ef198": {
      "model_module": "@jupyter-widgets/controls",
      "model_module_version": "1.5.0",
      "model_name": "HBoxModel",
      "state": {
       "children": [
        "IPY_MODEL_7cbcf84618fd43efa672966c819226c5",
        "IPY_MODEL_d291924bdbb349e69a084d7d91c76ebe"
       ],
       "layout": "IPY_MODEL_f8d0a0172da942d0bf4db39113cfef42"
      }
     },
     "4ed8e96625e24a919dcdc548e12086e9": {
      "model_module": "@jupyter-widgets/base",
      "model_module_version": "1.2.0",
      "model_name": "LayoutModel",
      "state": {}
     },
     "4f35ff781dcf40c6b03ce427f220dfe4": {
      "model_module": "@jupyter-widgets/controls",
      "model_module_version": "1.5.0",
      "model_name": "DescriptionStyleModel",
      "state": {
       "description_width": ""
      }
     },
     "5081bd58b2c548079ae99dce7948daa1": {
      "model_module": "@jupyter-widgets/controls",
      "model_module_version": "1.5.0",
      "model_name": "DescriptionStyleModel",
      "state": {
       "description_width": ""
      }
     },
     "53606d6c4d93409c82e68a7fdca9610c": {
      "model_module": "@jupyter-widgets/controls",
      "model_module_version": "1.5.0",
      "model_name": "ProgressStyleModel",
      "state": {
       "description_width": "initial"
      }
     },
     "53ae2d18383a43ebb7a2327b62efdbfe": {
      "model_module": "@jupyter-widgets/base",
      "model_module_version": "1.2.0",
      "model_name": "LayoutModel",
      "state": {}
     },
     "546189e2848f4b218d68788c06d6ea85": {
      "model_module": "@jupyter-widgets/base",
      "model_module_version": "1.2.0",
      "model_name": "LayoutModel",
      "state": {}
     },
     "55001bfcd7dd4a0db1f8170c55fc99a9": {
      "model_module": "@jupyter-widgets/controls",
      "model_module_version": "1.5.0",
      "model_name": "IntProgressModel",
      "state": {
       "bar_style": "success",
       "description": "100%",
       "layout": "IPY_MODEL_61b8676138324dd3831ebaed08572e4f",
       "max": 600,
       "style": "IPY_MODEL_b1fa6a5c2a2443f7b0561ad65e10468e",
       "value": 600
      }
     },
     "56f455eeb9624937980c91d59d0a72ed": {
      "model_module": "@jupyter-widgets/base",
      "model_module_version": "1.2.0",
      "model_name": "LayoutModel",
      "state": {}
     },
     "5d83d8f891bb47489b5eebd8331f97d1": {
      "model_module": "@jupyter-widgets/controls",
      "model_module_version": "1.5.0",
      "model_name": "ProgressStyleModel",
      "state": {
       "description_width": "initial"
      }
     },
     "5dfeb1724b7340a8806aa3e944db9956": {
      "model_module": "@jupyter-widgets/controls",
      "model_module_version": "1.5.0",
      "model_name": "HBoxModel",
      "state": {
       "children": [
        "IPY_MODEL_d89d4ffb0770466292129554c7369cae",
        "IPY_MODEL_dd2b6ac6de5a4907bde927b72e888208"
       ],
       "layout": "IPY_MODEL_e5bb8e91222b466791970de816a0187b"
      }
     },
     "5e838fe82fa549aaab1fde139b26121a": {
      "model_module": "@jupyter-widgets/base",
      "model_module_version": "1.2.0",
      "model_name": "LayoutModel",
      "state": {}
     },
     "5ebbf75c554e4ada93d74270c4550786": {
      "model_module": "@jupyter-widgets/base",
      "model_module_version": "1.2.0",
      "model_name": "LayoutModel",
      "state": {}
     },
     "5ebf9c13b75741a3950b6461bee442af": {
      "model_module": "@jupyter-widgets/base",
      "model_module_version": "1.2.0",
      "model_name": "LayoutModel",
      "state": {}
     },
     "5f3b481c4c934ee3ab2a2086412d6cc8": {
      "model_module": "@jupyter-widgets/base",
      "model_module_version": "1.2.0",
      "model_name": "LayoutModel",
      "state": {}
     },
     "6029a556c8d543f9929a6e553bf4a9a5": {
      "model_module": "@jupyter-widgets/base",
      "model_module_version": "1.2.0",
      "model_name": "LayoutModel",
      "state": {}
     },
     "61b8676138324dd3831ebaed08572e4f": {
      "model_module": "@jupyter-widgets/base",
      "model_module_version": "1.2.0",
      "model_name": "LayoutModel",
      "state": {}
     },
     "630457eddaf54d7cafe66f26ab1d46a7": {
      "model_module": "@jupyter-widgets/base",
      "model_module_version": "1.2.0",
      "model_name": "LayoutModel",
      "state": {}
     },
     "64630cc14f9b474287401e4bac647c22": {
      "model_module": "@jupyter-widgets/controls",
      "model_module_version": "1.5.0",
      "model_name": "DescriptionStyleModel",
      "state": {
       "description_width": ""
      }
     },
     "64777a4ec2d0417a949bba49edaedd94": {
      "model_module": "@jupyter-widgets/base",
      "model_module_version": "1.2.0",
      "model_name": "LayoutModel",
      "state": {}
     },
     "6779d64d71cc4f80a18e3d7edb9fe77b": {
      "model_module": "@jupyter-widgets/controls",
      "model_module_version": "1.5.0",
      "model_name": "IntProgressModel",
      "state": {
       "bar_style": "success",
       "description": "100%",
       "layout": "IPY_MODEL_479ef10b25b44072bf9b62bb3244e1f8",
       "max": 600,
       "style": "IPY_MODEL_7903dd30475249cdb0b4e61de937e7c1",
       "value": 600
      }
     },
     "6943475d270b4209873dc4835b0300bd": {
      "model_module": "@jupyter-widgets/controls",
      "model_module_version": "1.5.0",
      "model_name": "HBoxModel",
      "state": {
       "children": [
        "IPY_MODEL_6fd0da636b74404abc93e483a3bebfb3",
        "IPY_MODEL_8032b7629d5943febafa8d25e59c175c"
       ],
       "layout": "IPY_MODEL_e28d4876f752451a8d81c93b107bbcd3"
      }
     },
     "69e506b09b4c4f0db02641e724e78020": {
      "model_module": "@jupyter-widgets/base",
      "model_module_version": "1.2.0",
      "model_name": "LayoutModel",
      "state": {}
     },
     "6ac175ccc9174632802d40c527afdea3": {
      "model_module": "@jupyter-widgets/controls",
      "model_module_version": "1.5.0",
      "model_name": "HTMLModel",
      "state": {
       "layout": "IPY_MODEL_f0874107f14b455ca59d0efd8bea5db1",
       "style": "IPY_MODEL_9613febf823e490487115eaacc3791a6",
       "value": " 600/600 [00:16&lt;00:00, 36.04it/s]"
      }
     },
     "6ad9032d612f454b85321ed603ca3815": {
      "model_module": "@jupyter-widgets/controls",
      "model_module_version": "1.5.0",
      "model_name": "IntProgressModel",
      "state": {
       "bar_style": "success",
       "description": "100%",
       "layout": "IPY_MODEL_b29d4784e1194b61851631bbb06c4a32",
       "max": 600,
       "style": "IPY_MODEL_4b92c8e1cdcb4ea2a3622474cab1a875",
       "value": 600
      }
     },
     "6d69e250974440d2aaa5d90d5371c959": {
      "model_module": "@jupyter-widgets/base",
      "model_module_version": "1.2.0",
      "model_name": "LayoutModel",
      "state": {}
     },
     "6dadd75dd8224017a21fea4302e957aa": {
      "model_module": "@jupyter-widgets/base",
      "model_module_version": "1.2.0",
      "model_name": "LayoutModel",
      "state": {}
     },
     "6dd5a25c673f4a4faf8c7d0b2e398abf": {
      "model_module": "@jupyter-widgets/controls",
      "model_module_version": "1.5.0",
      "model_name": "FloatProgressModel",
      "state": {
       "bar_style": "success",
       "description": "100%",
       "layout": "IPY_MODEL_ee64dbf4666c4ca790c82b352e2bd3dc",
       "style": "IPY_MODEL_a8abaf603e14436c9556618d0a599e82",
       "value": 100
      }
     },
     "6fd0da636b74404abc93e483a3bebfb3": {
      "model_module": "@jupyter-widgets/controls",
      "model_module_version": "1.5.0",
      "model_name": "FloatProgressModel",
      "state": {
       "bar_style": "success",
       "description": "100%",
       "layout": "IPY_MODEL_eef6e87e976447aea9d6ec869e115173",
       "style": "IPY_MODEL_53606d6c4d93409c82e68a7fdca9610c",
       "value": 100
      }
     },
     "703e062492724a06bdf1510053ccbc6a": {
      "model_module": "@jupyter-widgets/controls",
      "model_module_version": "1.5.0",
      "model_name": "HTMLModel",
      "state": {
       "layout": "IPY_MODEL_ef59d86997614b18a8c1311689822f03",
       "style": "IPY_MODEL_02ba6fc556654c0bad4a145c4b17418c",
       "value": " 600/600 [00:24&lt;00:00, 24.88it/s]"
      }
     },
     "70837d601e064314987516a48f246429": {
      "model_module": "@jupyter-widgets/base",
      "model_module_version": "1.2.0",
      "model_name": "LayoutModel",
      "state": {}
     },
     "709f252ba28243698ffde792b2b7297c": {
      "model_module": "@jupyter-widgets/controls",
      "model_module_version": "1.5.0",
      "model_name": "HTMLModel",
      "state": {
       "layout": "IPY_MODEL_69e506b09b4c4f0db02641e724e78020",
       "style": "IPY_MODEL_ad8cee115d6749df944c36a3564fef46",
       "value": " 100/100 [00:03&lt;00:00, 31.10it/s]"
      }
     },
     "71f74cf044db43979c7a297ff8be572e": {
      "model_module": "@jupyter-widgets/base",
      "model_module_version": "1.2.0",
      "model_name": "LayoutModel",
      "state": {}
     },
     "74c67621af0148fe92defe8e4513c56c": {
      "model_module": "@jupyter-widgets/base",
      "model_module_version": "1.2.0",
      "model_name": "LayoutModel",
      "state": {}
     },
     "752ef1aef0804eabbe76ba2a4f5a56c8": {
      "model_module": "@jupyter-widgets/base",
      "model_module_version": "1.2.0",
      "model_name": "LayoutModel",
      "state": {}
     },
     "75657820ee9648bca89a17c4def23516": {
      "model_module": "@jupyter-widgets/base",
      "model_module_version": "1.2.0",
      "model_name": "LayoutModel",
      "state": {}
     },
     "759a293be651417982a43ab19f7ef9be": {
      "model_module": "@jupyter-widgets/controls",
      "model_module_version": "1.5.0",
      "model_name": "ProgressStyleModel",
      "state": {
       "description_width": "initial"
      }
     },
     "75a748fff88147efbf2c40e75150f667": {
      "model_module": "@jupyter-widgets/controls",
      "model_module_version": "1.5.0",
      "model_name": "HBoxModel",
      "state": {
       "children": [
        "IPY_MODEL_de4d634ca87f438e9c4aaf69072cb2e1",
        "IPY_MODEL_6ac175ccc9174632802d40c527afdea3"
       ],
       "layout": "IPY_MODEL_c93a4f2634ab4334a9bc86f864ec9d03"
      }
     },
     "77411f173eaa4ba6ac63ed381d2374e4": {
      "model_module": "@jupyter-widgets/base",
      "model_module_version": "1.2.0",
      "model_name": "LayoutModel",
      "state": {}
     },
     "779e7d516c99412f84a0be9af866c266": {
      "model_module": "@jupyter-widgets/controls",
      "model_module_version": "1.5.0",
      "model_name": "HBoxModel",
      "state": {
       "children": [
        "IPY_MODEL_781e1aed06e348ac827b4339bc448f75",
        "IPY_MODEL_32e9a047ea3a41439e5d83ecc5310ddb"
       ],
       "layout": "IPY_MODEL_21606ea13c9c4afa8ef95cd727230bdc"
      }
     },
     "7813e38f58f242f5868953bd4c8003fc": {
      "model_module": "@jupyter-widgets/controls",
      "model_module_version": "1.5.0",
      "model_name": "DescriptionStyleModel",
      "state": {
       "description_width": ""
      }
     },
     "781e1aed06e348ac827b4339bc448f75": {
      "model_module": "@jupyter-widgets/controls",
      "model_module_version": "1.5.0",
      "model_name": "IntProgressModel",
      "state": {
       "bar_style": "success",
       "description": "100%",
       "layout": "IPY_MODEL_5f3b481c4c934ee3ab2a2086412d6cc8",
       "style": "IPY_MODEL_da6915df7a4e4525a369586d4e45111a",
       "value": 100
      }
     },
     "7838ea755ce5480eab9de43af72d6a69": {
      "model_module": "@jupyter-widgets/controls",
      "model_module_version": "1.5.0",
      "model_name": "ProgressStyleModel",
      "state": {
       "description_width": "initial"
      }
     },
     "7903dd30475249cdb0b4e61de937e7c1": {
      "model_module": "@jupyter-widgets/controls",
      "model_module_version": "1.5.0",
      "model_name": "ProgressStyleModel",
      "state": {
       "description_width": "initial"
      }
     },
     "794168f4d4594941aa2441f5a662d1df": {
      "model_module": "@jupyter-widgets/base",
      "model_module_version": "1.2.0",
      "model_name": "LayoutModel",
      "state": {}
     },
     "7953b46a197646e085cd429c4777ec30": {
      "model_module": "@jupyter-widgets/controls",
      "model_module_version": "1.5.0",
      "model_name": "DescriptionStyleModel",
      "state": {
       "description_width": ""
      }
     },
     "79ef0f8bd70f4164a11f0afe3ec669c2": {
      "model_module": "@jupyter-widgets/controls",
      "model_module_version": "1.5.0",
      "model_name": "FloatProgressModel",
      "state": {
       "bar_style": "success",
       "description": "100%",
       "layout": "IPY_MODEL_794168f4d4594941aa2441f5a662d1df",
       "max": 600,
       "style": "IPY_MODEL_3b47462712754c9484f4bb97183b127f",
       "value": 600
      }
     },
     "7cbcf84618fd43efa672966c819226c5": {
      "model_module": "@jupyter-widgets/controls",
      "model_module_version": "1.5.0",
      "model_name": "IntProgressModel",
      "state": {
       "bar_style": "success",
       "description": "100%",
       "layout": "IPY_MODEL_74c67621af0148fe92defe8e4513c56c",
       "style": "IPY_MODEL_139a26066e2a453a92a5741ac7440a3f",
       "value": 100
      }
     },
     "7e2a7cb7b012443d80dd1e19e3f9934e": {
      "model_module": "@jupyter-widgets/base",
      "model_module_version": "1.2.0",
      "model_name": "LayoutModel",
      "state": {}
     },
     "7e87dbe6f0484a6d891c4359f362f2ba": {
      "model_module": "@jupyter-widgets/controls",
      "model_module_version": "1.5.0",
      "model_name": "ProgressStyleModel",
      "state": {
       "description_width": "initial"
      }
     },
     "8032b7629d5943febafa8d25e59c175c": {
      "model_module": "@jupyter-widgets/controls",
      "model_module_version": "1.5.0",
      "model_name": "HTMLModel",
      "state": {
       "layout": "IPY_MODEL_dfbdeaf4bae14bde9dca3e0d579bafad",
       "style": "IPY_MODEL_ed8e61c1bb23474d90831e61954f4985",
       "value": " 100/100 [00:03&lt;00:00, 29.53it/s]"
      }
     },
     "809bbad7968743fab4783f7d0d36bdf0": {
      "model_module": "@jupyter-widgets/controls",
      "model_module_version": "1.5.0",
      "model_name": "FloatProgressModel",
      "state": {
       "bar_style": "success",
       "description": "100%",
       "layout": "IPY_MODEL_8886b0dda5ea42adb4a2800057aa3b4b",
       "max": 600,
       "style": "IPY_MODEL_7838ea755ce5480eab9de43af72d6a69",
       "value": 600
      }
     },
     "82a4101b67bf48eda5c119e282f9e167": {
      "model_module": "@jupyter-widgets/controls",
      "model_module_version": "1.5.0",
      "model_name": "HBoxModel",
      "state": {
       "children": [
        "IPY_MODEL_1b2e84ba16de427fa17a661d4033d276",
        "IPY_MODEL_05372d8d36294452a3a083d0e7844c96"
       ],
       "layout": "IPY_MODEL_77411f173eaa4ba6ac63ed381d2374e4"
      }
     },
     "83e68222f60c48dca841c8836e582553": {
      "model_module": "@jupyter-widgets/base",
      "model_module_version": "1.2.0",
      "model_name": "LayoutModel",
      "state": {}
     },
     "85a0c592d9b54b44a240e2dff7947ebd": {
      "model_module": "@jupyter-widgets/controls",
      "model_module_version": "1.5.0",
      "model_name": "HBoxModel",
      "state": {
       "children": [
        "IPY_MODEL_f3149d5c75fa45999c4797beb1efb134",
        "IPY_MODEL_efd0d8f6ffee421b9c372c76ed9ef1a8"
       ],
       "layout": "IPY_MODEL_0c18433b48ac4be0b0e037d5be0c63f8"
      }
     },
     "86aabc046a7d4feeaec002c17836cf74": {
      "model_module": "@jupyter-widgets/controls",
      "model_module_version": "1.5.0",
      "model_name": "HBoxModel",
      "state": {
       "children": [
        "IPY_MODEL_6779d64d71cc4f80a18e3d7edb9fe77b",
        "IPY_MODEL_d9f45d42e93e4a65b23d8fe9eeff9680"
       ],
       "layout": "IPY_MODEL_546189e2848f4b218d68788c06d6ea85"
      }
     },
     "87443c75233049f2b0d63527c639d788": {
      "model_module": "@jupyter-widgets/base",
      "model_module_version": "1.2.0",
      "model_name": "LayoutModel",
      "state": {}
     },
     "8886b0dda5ea42adb4a2800057aa3b4b": {
      "model_module": "@jupyter-widgets/base",
      "model_module_version": "1.2.0",
      "model_name": "LayoutModel",
      "state": {}
     },
     "8a5088b74cf642f687cf6d1d67cb229a": {
      "model_module": "@jupyter-widgets/base",
      "model_module_version": "1.2.0",
      "model_name": "LayoutModel",
      "state": {}
     },
     "8c5e48995dd2474cb1ac1ca557aee46c": {
      "model_module": "@jupyter-widgets/controls",
      "model_module_version": "1.5.0",
      "model_name": "HTMLModel",
      "state": {
       "layout": "IPY_MODEL_30309ea05c174448943ecb5ba92ae0e5",
       "style": "IPY_MODEL_42c21b2eb4834c7b84838c3831e2f34b",
       "value": " 600/600 [00:17&lt;00:00, 34.84it/s]"
      }
     },
     "8c69ddf36e724015b78f9cc894a6f21f": {
      "model_module": "@jupyter-widgets/controls",
      "model_module_version": "1.5.0",
      "model_name": "ProgressStyleModel",
      "state": {
       "description_width": "initial"
      }
     },
     "8dd74db4495047afa57108a8322cc955": {
      "model_module": "@jupyter-widgets/controls",
      "model_module_version": "1.5.0",
      "model_name": "HTMLModel",
      "state": {
       "layout": "IPY_MODEL_46fbadc7425740fd9a72f8034a4e6753",
       "style": "IPY_MODEL_0dcf2e7c51d04f5da15ede8dd49f0eac",
       "value": " 100/100 [00:02&lt;00:00, 40.64it/s]"
      }
     },
     "8e51c26c3ff44704a9d7a8a1569d80e2": {
      "model_module": "@jupyter-widgets/base",
      "model_module_version": "1.2.0",
      "model_name": "LayoutModel",
      "state": {}
     },
     "9613febf823e490487115eaacc3791a6": {
      "model_module": "@jupyter-widgets/controls",
      "model_module_version": "1.5.0",
      "model_name": "DescriptionStyleModel",
      "state": {
       "description_width": ""
      }
     },
     "96ad99d2f3484aa6a7d5e826b948ad7f": {
      "model_module": "@jupyter-widgets/controls",
      "model_module_version": "1.5.0",
      "model_name": "HTMLModel",
      "state": {
       "layout": "IPY_MODEL_4c2af1030c8246eda9ccc184abd348d1",
       "style": "IPY_MODEL_4f35ff781dcf40c6b03ce427f220dfe4",
       "value": " 100/100 [00:02&lt;00:00, 39.49it/s]"
      }
     },
     "9b3be61161934791a0843b79608a7bac": {
      "model_module": "@jupyter-widgets/controls",
      "model_module_version": "1.5.0",
      "model_name": "ProgressStyleModel",
      "state": {
       "description_width": "initial"
      }
     },
     "9e6e9e41a88c48be86597fd4c6d32411": {
      "model_module": "@jupyter-widgets/controls",
      "model_module_version": "1.5.0",
      "model_name": "HBoxModel",
      "state": {
       "children": [
        "IPY_MODEL_0b90a0686fef47dc8985949c412ebf43",
        "IPY_MODEL_96ad99d2f3484aa6a7d5e826b948ad7f"
       ],
       "layout": "IPY_MODEL_87443c75233049f2b0d63527c639d788"
      }
     },
     "a040d319ed724ba887065525487ff446": {
      "model_module": "@jupyter-widgets/controls",
      "model_module_version": "1.5.0",
      "model_name": "HBoxModel",
      "state": {
       "children": [
        "IPY_MODEL_809bbad7968743fab4783f7d0d36bdf0",
        "IPY_MODEL_703e062492724a06bdf1510053ccbc6a"
       ],
       "layout": "IPY_MODEL_e551461ea6654cfe8133172eff4de7dd"
      }
     },
     "a1599327408f4216a3c7726870784b8a": {
      "model_module": "@jupyter-widgets/controls",
      "model_module_version": "1.5.0",
      "model_name": "HTMLModel",
      "state": {
       "layout": "IPY_MODEL_8a5088b74cf642f687cf6d1d67cb229a",
       "style": "IPY_MODEL_180345d08d3e43fa88bf97bc5cb3f4b1",
       "value": " 600/600 [00:20&lt;00:00, 29.41it/s]"
      }
     },
     "a4d777e8f0994329912efaab8f50d747": {
      "model_module": "@jupyter-widgets/controls",
      "model_module_version": "1.5.0",
      "model_name": "ProgressStyleModel",
      "state": {
       "description_width": "initial"
      }
     },
     "a52554c238f84cefa9e52f4ea05c75e7": {
      "model_module": "@jupyter-widgets/controls",
      "model_module_version": "1.5.0",
      "model_name": "HTMLModel",
      "state": {
       "layout": "IPY_MODEL_c9b74f1c8796436dbe487ebd9e428079",
       "style": "IPY_MODEL_c8e1306d346b4496bae3e5d745db9b7b",
       "value": " 600/600 [00:16&lt;00:00, 35.42it/s]"
      }
     },
     "a52ede1b19f84fa1887ca5c33686b97e": {
      "model_module": "@jupyter-widgets/base",
      "model_module_version": "1.2.0",
      "model_name": "LayoutModel",
      "state": {}
     },
     "a6f0c7ea1aff42cdb9eeab5ac77328be": {
      "model_module": "@jupyter-widgets/controls",
      "model_module_version": "1.5.0",
      "model_name": "DescriptionStyleModel",
      "state": {
       "description_width": ""
      }
     },
     "a8a79b095f874fe0bb8764e960bdbe57": {
      "model_module": "@jupyter-widgets/controls",
      "model_module_version": "1.5.0",
      "model_name": "HTMLModel",
      "state": {
       "layout": "IPY_MODEL_5e838fe82fa549aaab1fde139b26121a",
       "style": "IPY_MODEL_64630cc14f9b474287401e4bac647c22",
       "value": " 100/100 [00:02&lt;00:00, 48.19it/s]"
      }
     },
     "a8abaf603e14436c9556618d0a599e82": {
      "model_module": "@jupyter-widgets/controls",
      "model_module_version": "1.5.0",
      "model_name": "ProgressStyleModel",
      "state": {
       "description_width": "initial"
      }
     },
     "a9cb23521c114698aec111175b0fdded": {
      "model_module": "@jupyter-widgets/controls",
      "model_module_version": "1.5.0",
      "model_name": "HBoxModel",
      "state": {
       "children": [
        "IPY_MODEL_be90841470e448f398c1d84b58b1e5f0",
        "IPY_MODEL_a8a79b095f874fe0bb8764e960bdbe57"
       ],
       "layout": "IPY_MODEL_ede80f846a4a4f21b637697aa2ece42a"
      }
     },
     "a9fc6a779ac44d4293dbc9bb1471128e": {
      "model_module": "@jupyter-widgets/base",
      "model_module_version": "1.2.0",
      "model_name": "LayoutModel",
      "state": {}
     },
     "ab3028b53595467b92c4906fb61ba183": {
      "model_module": "@jupyter-widgets/base",
      "model_module_version": "1.2.0",
      "model_name": "LayoutModel",
      "state": {}
     },
     "acd64aff4bd24ec49aef585414303fab": {
      "model_module": "@jupyter-widgets/controls",
      "model_module_version": "1.5.0",
      "model_name": "DescriptionStyleModel",
      "state": {
       "description_width": ""
      }
     },
     "ad5dee1503b446ddb28cccbf183fc363": {
      "model_module": "@jupyter-widgets/controls",
      "model_module_version": "1.5.0",
      "model_name": "HBoxModel",
      "state": {
       "children": [
        "IPY_MODEL_4bec82b3e28441f78808b30d623eded8",
        "IPY_MODEL_8c5e48995dd2474cb1ac1ca557aee46c"
       ],
       "layout": "IPY_MODEL_75657820ee9648bca89a17c4def23516"
      }
     },
     "ad8cee115d6749df944c36a3564fef46": {
      "model_module": "@jupyter-widgets/controls",
      "model_module_version": "1.5.0",
      "model_name": "DescriptionStyleModel",
      "state": {
       "description_width": ""
      }
     },
     "b0ae3ea99c9849768dbdea29a2c8e13b": {
      "model_module": "@jupyter-widgets/controls",
      "model_module_version": "1.5.0",
      "model_name": "DescriptionStyleModel",
      "state": {
       "description_width": ""
      }
     },
     "b1fa6a5c2a2443f7b0561ad65e10468e": {
      "model_module": "@jupyter-widgets/controls",
      "model_module_version": "1.5.0",
      "model_name": "ProgressStyleModel",
      "state": {
       "description_width": "initial"
      }
     },
     "b29d4784e1194b61851631bbb06c4a32": {
      "model_module": "@jupyter-widgets/base",
      "model_module_version": "1.2.0",
      "model_name": "LayoutModel",
      "state": {}
     },
     "b3c0849c8fbb49b989ca8ac1e00f2ca7": {
      "model_module": "@jupyter-widgets/controls",
      "model_module_version": "1.5.0",
      "model_name": "HBoxModel",
      "state": {
       "children": [
        "IPY_MODEL_312e9fe46c29463999edfd8af1ade5b9",
        "IPY_MODEL_070afb362477408c98244dcab5f6f78d"
       ],
       "layout": "IPY_MODEL_752ef1aef0804eabbe76ba2a4f5a56c8"
      }
     },
     "b914085c48e34577b65a00e1b65949a8": {
      "model_module": "@jupyter-widgets/base",
      "model_module_version": "1.2.0",
      "model_name": "LayoutModel",
      "state": {}
     },
     "bc8f5b6c8f534b79940e05b0bf9a7ba4": {
      "model_module": "@jupyter-widgets/controls",
      "model_module_version": "1.5.0",
      "model_name": "ProgressStyleModel",
      "state": {
       "description_width": "initial"
      }
     },
     "be90841470e448f398c1d84b58b1e5f0": {
      "model_module": "@jupyter-widgets/controls",
      "model_module_version": "1.5.0",
      "model_name": "IntProgressModel",
      "state": {
       "bar_style": "success",
       "description": "100%",
       "layout": "IPY_MODEL_b914085c48e34577b65a00e1b65949a8",
       "style": "IPY_MODEL_759a293be651417982a43ab19f7ef9be",
       "value": 100
      }
     },
     "bfb0ba4f81f14080b9924db914dcf40c": {
      "model_module": "@jupyter-widgets/controls",
      "model_module_version": "1.5.0",
      "model_name": "HTMLModel",
      "state": {
       "layout": "IPY_MODEL_83e68222f60c48dca841c8836e582553",
       "style": "IPY_MODEL_7813e38f58f242f5868953bd4c8003fc",
       "value": " 600/600 [00:20&lt;00:00, 29.87it/s]"
      }
     },
     "c0971f8cf1284aaca0068c0b57d6cab0": {
      "model_module": "@jupyter-widgets/base",
      "model_module_version": "1.2.0",
      "model_name": "LayoutModel",
      "state": {}
     },
     "c2890ce3286f4f73af27b73b3bfbeb66": {
      "model_module": "@jupyter-widgets/controls",
      "model_module_version": "1.5.0",
      "model_name": "HBoxModel",
      "state": {
       "children": [
        "IPY_MODEL_79ef0f8bd70f4164a11f0afe3ec669c2",
        "IPY_MODEL_a1599327408f4216a3c7726870784b8a"
       ],
       "layout": "IPY_MODEL_caead25870804f11aa1e279e7d4b9603"
      }
     },
     "c8253a11811f4b0cbc812051b6de6f6e": {
      "model_module": "@jupyter-widgets/base",
      "model_module_version": "1.2.0",
      "model_name": "LayoutModel",
      "state": {}
     },
     "c8561fa56818435f94707ee41181197c": {
      "model_module": "@jupyter-widgets/controls",
      "model_module_version": "1.5.0",
      "model_name": "ProgressStyleModel",
      "state": {
       "description_width": "initial"
      }
     },
     "c8e1306d346b4496bae3e5d745db9b7b": {
      "model_module": "@jupyter-widgets/controls",
      "model_module_version": "1.5.0",
      "model_name": "DescriptionStyleModel",
      "state": {
       "description_width": ""
      }
     },
     "c93a4f2634ab4334a9bc86f864ec9d03": {
      "model_module": "@jupyter-widgets/base",
      "model_module_version": "1.2.0",
      "model_name": "LayoutModel",
      "state": {}
     },
     "c9b74f1c8796436dbe487ebd9e428079": {
      "model_module": "@jupyter-widgets/base",
      "model_module_version": "1.2.0",
      "model_name": "LayoutModel",
      "state": {}
     },
     "cabcc13852074e07a8d322cd99f24e5e": {
      "model_module": "@jupyter-widgets/controls",
      "model_module_version": "1.5.0",
      "model_name": "ProgressStyleModel",
      "state": {
       "description_width": "initial"
      }
     },
     "caead25870804f11aa1e279e7d4b9603": {
      "model_module": "@jupyter-widgets/base",
      "model_module_version": "1.2.0",
      "model_name": "LayoutModel",
      "state": {}
     },
     "cbc29e26fbbd461ab309214dac56a9ce": {
      "model_module": "@jupyter-widgets/base",
      "model_module_version": "1.2.0",
      "model_name": "LayoutModel",
      "state": {}
     },
     "cd44a9cf38fa4433a0662235ebd1a5f0": {
      "model_module": "@jupyter-widgets/base",
      "model_module_version": "1.2.0",
      "model_name": "LayoutModel",
      "state": {}
     },
     "cd4ee4fec9a845c3a17cbc5516345a56": {
      "model_module": "@jupyter-widgets/controls",
      "model_module_version": "1.5.0",
      "model_name": "IntProgressModel",
      "state": {
       "bar_style": "success",
       "description": "100%",
       "layout": "IPY_MODEL_f0ad882691bd4012aa89810f86c52621",
       "max": 600,
       "style": "IPY_MODEL_1cb1d5db956f4c1599f362159649c5cb",
       "value": 600
      }
     },
     "d045ee6e5ade4f938d6b76862ca5dc33": {
      "model_module": "@jupyter-widgets/base",
      "model_module_version": "1.2.0",
      "model_name": "LayoutModel",
      "state": {}
     },
     "d0ba99eac67041c2a449a80b71e1a0a5": {
      "model_module": "@jupyter-widgets/base",
      "model_module_version": "1.2.0",
      "model_name": "LayoutModel",
      "state": {}
     },
     "d1901b27e0554752ae4addf37d4acfd4": {
      "model_module": "@jupyter-widgets/base",
      "model_module_version": "1.2.0",
      "model_name": "LayoutModel",
      "state": {}
     },
     "d1e25145f12b42a3be57a6aace611870": {
      "model_module": "@jupyter-widgets/controls",
      "model_module_version": "1.5.0",
      "model_name": "HTMLModel",
      "state": {
       "layout": "IPY_MODEL_4ed8e96625e24a919dcdc548e12086e9",
       "style": "IPY_MODEL_0b73de309f0e4622960445b5e67b0f23",
       "value": " 600/600 [00:19&lt;00:00, 31.36it/s]"
      }
     },
     "d291924bdbb349e69a084d7d91c76ebe": {
      "model_module": "@jupyter-widgets/controls",
      "model_module_version": "1.5.0",
      "model_name": "HTMLModel",
      "state": {
       "layout": "IPY_MODEL_00ab3361f9b948b48b0976623b0a83a7",
       "style": "IPY_MODEL_7953b46a197646e085cd429c4777ec30",
       "value": " 100/100 [00:02&lt;00:00, 39.69it/s]"
      }
     },
     "d3440bde35cd4306b00d651fb9606e47": {
      "model_module": "@jupyter-widgets/controls",
      "model_module_version": "1.5.0",
      "model_name": "DescriptionStyleModel",
      "state": {
       "description_width": ""
      }
     },
     "d393ae32b0a94f1d8591995c66f71243": {
      "model_module": "@jupyter-widgets/controls",
      "model_module_version": "1.5.0",
      "model_name": "HTMLModel",
      "state": {
       "layout": "IPY_MODEL_a9fc6a779ac44d4293dbc9bb1471128e",
       "style": "IPY_MODEL_b0ae3ea99c9849768dbdea29a2c8e13b",
       "value": " 600/600 [00:19&lt;00:00, 30.64it/s]"
      }
     },
     "d47fa458994a4c2d9922b6daf4779539": {
      "model_module": "@jupyter-widgets/controls",
      "model_module_version": "1.5.0",
      "model_name": "ProgressStyleModel",
      "state": {
       "description_width": "initial"
      }
     },
     "d89d4ffb0770466292129554c7369cae": {
      "model_module": "@jupyter-widgets/controls",
      "model_module_version": "1.5.0",
      "model_name": "IntProgressModel",
      "state": {
       "bar_style": "success",
       "description": "100%",
       "layout": "IPY_MODEL_7e2a7cb7b012443d80dd1e19e3f9934e",
       "style": "IPY_MODEL_25f6dea15b0448fd941133106d8d1d37",
       "value": 100
      }
     },
     "d9f45d42e93e4a65b23d8fe9eeff9680": {
      "model_module": "@jupyter-widgets/controls",
      "model_module_version": "1.5.0",
      "model_name": "HTMLModel",
      "state": {
       "layout": "IPY_MODEL_5ebf9c13b75741a3950b6461bee442af",
       "style": "IPY_MODEL_d3440bde35cd4306b00d651fb9606e47",
       "value": " 600/600 [00:20&lt;00:00, 28.95it/s]"
      }
     },
     "da6915df7a4e4525a369586d4e45111a": {
      "model_module": "@jupyter-widgets/controls",
      "model_module_version": "1.5.0",
      "model_name": "ProgressStyleModel",
      "state": {
       "description_width": "initial"
      }
     },
     "db35d1a9069a4d86b37b3f3d85ff05f5": {
      "model_module": "@jupyter-widgets/controls",
      "model_module_version": "1.5.0",
      "model_name": "HTMLModel",
      "state": {
       "layout": "IPY_MODEL_cd44a9cf38fa4433a0662235ebd1a5f0",
       "style": "IPY_MODEL_a6f0c7ea1aff42cdb9eeab5ac77328be",
       "value": " 600/600 [00:20&lt;00:00, 29.41it/s]"
      }
     },
     "dc1ec29fb4054067a283cc37d19debeb": {
      "model_module": "@jupyter-widgets/controls",
      "model_module_version": "1.5.0",
      "model_name": "HBoxModel",
      "state": {
       "children": [
        "IPY_MODEL_6ad9032d612f454b85321ed603ca3815",
        "IPY_MODEL_4112ba3474384d839e66ffaaab8f2355"
       ],
       "layout": "IPY_MODEL_df2f1c9f45dd4974bc218e0f571b020c"
      }
     },
     "dd2b6ac6de5a4907bde927b72e888208": {
      "model_module": "@jupyter-widgets/controls",
      "model_module_version": "1.5.0",
      "model_name": "HTMLModel",
      "state": {
       "layout": "IPY_MODEL_d045ee6e5ade4f938d6b76862ca5dc33",
       "style": "IPY_MODEL_3bf1ea9535ad49c189eafc90c872c079",
       "value": " 100/100 [00:02&lt;00:00, 34.76it/s]"
      }
     },
     "de4d634ca87f438e9c4aaf69072cb2e1": {
      "model_module": "@jupyter-widgets/controls",
      "model_module_version": "1.5.0",
      "model_name": "IntProgressModel",
      "state": {
       "bar_style": "success",
       "description": "100%",
       "layout": "IPY_MODEL_6d69e250974440d2aaa5d90d5371c959",
       "max": 600,
       "style": "IPY_MODEL_c8561fa56818435f94707ee41181197c",
       "value": 600
      }
     },
     "df2f1c9f45dd4974bc218e0f571b020c": {
      "model_module": "@jupyter-widgets/base",
      "model_module_version": "1.2.0",
      "model_name": "LayoutModel",
      "state": {}
     },
     "dfbdeaf4bae14bde9dca3e0d579bafad": {
      "model_module": "@jupyter-widgets/base",
      "model_module_version": "1.2.0",
      "model_name": "LayoutModel",
      "state": {}
     },
     "e01fab92b3e94bc6992d25581ab86245": {
      "model_module": "@jupyter-widgets/controls",
      "model_module_version": "1.5.0",
      "model_name": "HBoxModel",
      "state": {
       "children": [
        "IPY_MODEL_f1dcaff9e6d34c208aa3601a740471e1",
        "IPY_MODEL_8dd74db4495047afa57108a8322cc955"
       ],
       "layout": "IPY_MODEL_d1901b27e0554752ae4addf37d4acfd4"
      }
     },
     "e085bf0edc8f405ea1e200394a2d699d": {
      "model_module": "@jupyter-widgets/controls",
      "model_module_version": "1.5.0",
      "model_name": "HBoxModel",
      "state": {
       "children": [
        "IPY_MODEL_6dd5a25c673f4a4faf8c7d0b2e398abf",
        "IPY_MODEL_709f252ba28243698ffde792b2b7297c"
       ],
       "layout": "IPY_MODEL_13366e3937e24dc4bf9254771e0ac514"
      }
     },
     "e1d28e912a1d40d8890d9946c1f86981": {
      "model_module": "@jupyter-widgets/base",
      "model_module_version": "1.2.0",
      "model_name": "LayoutModel",
      "state": {}
     },
     "e28d4876f752451a8d81c93b107bbcd3": {
      "model_module": "@jupyter-widgets/base",
      "model_module_version": "1.2.0",
      "model_name": "LayoutModel",
      "state": {}
     },
     "e2ee4488d9fb48949fa658478b188d8a": {
      "model_module": "@jupyter-widgets/controls",
      "model_module_version": "1.5.0",
      "model_name": "FloatProgressModel",
      "state": {
       "bar_style": "success",
       "description": "100%",
       "layout": "IPY_MODEL_d0ba99eac67041c2a449a80b71e1a0a5",
       "max": 600,
       "style": "IPY_MODEL_9b3be61161934791a0843b79608a7bac",
       "value": 600
      }
     },
     "e3e090911b134c2f9f59b1f8cdddcf4b": {
      "model_module": "@jupyter-widgets/base",
      "model_module_version": "1.2.0",
      "model_name": "LayoutModel",
      "state": {}
     },
     "e551461ea6654cfe8133172eff4de7dd": {
      "model_module": "@jupyter-widgets/base",
      "model_module_version": "1.2.0",
      "model_name": "LayoutModel",
      "state": {}
     },
     "e5bb8e91222b466791970de816a0187b": {
      "model_module": "@jupyter-widgets/base",
      "model_module_version": "1.2.0",
      "model_name": "LayoutModel",
      "state": {}
     },
     "e988071311e640fd84d509864d1c64b6": {
      "model_module": "@jupyter-widgets/controls",
      "model_module_version": "1.5.0",
      "model_name": "ProgressStyleModel",
      "state": {
       "description_width": "initial"
      }
     },
     "ed8e61c1bb23474d90831e61954f4985": {
      "model_module": "@jupyter-widgets/controls",
      "model_module_version": "1.5.0",
      "model_name": "DescriptionStyleModel",
      "state": {
       "description_width": ""
      }
     },
     "ede80f846a4a4f21b637697aa2ece42a": {
      "model_module": "@jupyter-widgets/base",
      "model_module_version": "1.2.0",
      "model_name": "LayoutModel",
      "state": {}
     },
     "ee0d392ddfec4748b5b2926f1ffcc739": {
      "model_module": "@jupyter-widgets/controls",
      "model_module_version": "1.5.0",
      "model_name": "HBoxModel",
      "state": {
       "children": [
        "IPY_MODEL_33724df2f1a3433bbb26aa18bc88b126",
        "IPY_MODEL_3877f7bc979a4999a78e0ca12a2efd2f"
       ],
       "layout": "IPY_MODEL_71f74cf044db43979c7a297ff8be572e"
      }
     },
     "ee64dbf4666c4ca790c82b352e2bd3dc": {
      "model_module": "@jupyter-widgets/base",
      "model_module_version": "1.2.0",
      "model_name": "LayoutModel",
      "state": {}
     },
     "eef6e87e976447aea9d6ec869e115173": {
      "model_module": "@jupyter-widgets/base",
      "model_module_version": "1.2.0",
      "model_name": "LayoutModel",
      "state": {}
     },
     "ef59d86997614b18a8c1311689822f03": {
      "model_module": "@jupyter-widgets/base",
      "model_module_version": "1.2.0",
      "model_name": "LayoutModel",
      "state": {}
     },
     "efd0d8f6ffee421b9c372c76ed9ef1a8": {
      "model_module": "@jupyter-widgets/controls",
      "model_module_version": "1.5.0",
      "model_name": "HTMLModel",
      "state": {
       "layout": "IPY_MODEL_1110c89bcb7948b8a4081f188c8f053f",
       "style": "IPY_MODEL_03770380477d40069927db8dba2ecc34",
       "value": " 100/100 [00:03&lt;00:00, 29.83it/s]"
      }
     },
     "f045f24016f5412696ccd4d42d3ac4a6": {
      "model_module": "@jupyter-widgets/base",
      "model_module_version": "1.2.0",
      "model_name": "LayoutModel",
      "state": {}
     },
     "f0874107f14b455ca59d0efd8bea5db1": {
      "model_module": "@jupyter-widgets/base",
      "model_module_version": "1.2.0",
      "model_name": "LayoutModel",
      "state": {}
     },
     "f0ad882691bd4012aa89810f86c52621": {
      "model_module": "@jupyter-widgets/base",
      "model_module_version": "1.2.0",
      "model_name": "LayoutModel",
      "state": {}
     },
     "f1dcaff9e6d34c208aa3601a740471e1": {
      "model_module": "@jupyter-widgets/controls",
      "model_module_version": "1.5.0",
      "model_name": "IntProgressModel",
      "state": {
       "bar_style": "success",
       "description": "100%",
       "layout": "IPY_MODEL_8e51c26c3ff44704a9d7a8a1569d80e2",
       "style": "IPY_MODEL_08127475b3c0456db3db286c913b7271",
       "value": 100
      }
     },
     "f3149d5c75fa45999c4797beb1efb134": {
      "model_module": "@jupyter-widgets/controls",
      "model_module_version": "1.5.0",
      "model_name": "IntProgressModel",
      "state": {
       "bar_style": "success",
       "description": "100%",
       "layout": "IPY_MODEL_64777a4ec2d0417a949bba49edaedd94",
       "style": "IPY_MODEL_8c69ddf36e724015b78f9cc894a6f21f",
       "value": 100
      }
     },
     "f65f7b566392443eab4238881599bb42": {
      "model_module": "@jupyter-widgets/base",
      "model_module_version": "1.2.0",
      "model_name": "LayoutModel",
      "state": {}
     },
     "f8d0a0172da942d0bf4db39113cfef42": {
      "model_module": "@jupyter-widgets/base",
      "model_module_version": "1.2.0",
      "model_name": "LayoutModel",
      "state": {}
     },
     "fb696dfe7bae4a00b375d9c7c6053293": {
      "model_module": "@jupyter-widgets/base",
      "model_module_version": "1.2.0",
      "model_name": "LayoutModel",
      "state": {}
     },
     "fb6e26311b32443391e4a1ce19de0678": {
      "model_module": "@jupyter-widgets/base",
      "model_module_version": "1.2.0",
      "model_name": "LayoutModel",
      "state": {}
     },
     "fd0373f64152443cb49b3cfe0bdaea65": {
      "model_module": "@jupyter-widgets/controls",
      "model_module_version": "1.5.0",
      "model_name": "HBoxModel",
      "state": {
       "children": [
        "IPY_MODEL_e2ee4488d9fb48949fa658478b188d8a",
        "IPY_MODEL_db35d1a9069a4d86b37b3f3d85ff05f5"
       ],
       "layout": "IPY_MODEL_45759a4191104054b18f78f161e4114b"
      }
     },
     "ffeae8ce8dde457eb2ba3ec954e2216e": {
      "model_module": "@jupyter-widgets/controls",
      "model_module_version": "1.5.0",
      "model_name": "IntProgressModel",
      "state": {
       "bar_style": "success",
       "description": "100%",
       "layout": "IPY_MODEL_c8253a11811f4b0cbc812051b6de6f6e",
       "max": 600,
       "style": "IPY_MODEL_bc8f5b6c8f534b79940e05b0bf9a7ba4",
       "value": 600
      }
     }
    },
    "version_major": 2,
    "version_minor": 0
   }
  }
 },
 "nbformat": 4,
 "nbformat_minor": 2
}
